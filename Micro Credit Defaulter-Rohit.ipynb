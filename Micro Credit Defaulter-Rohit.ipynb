{
 "cells": [
  {
   "cell_type": "code",
   "execution_count": 1,
   "id": "9a10b85c",
   "metadata": {},
   "outputs": [],
   "source": [
    "import pandas as pd\n",
    "import numpy as np\n",
    "import matplotlib.pyplot as plt\n",
    "import seaborn as sns"
   ]
  },
  {
   "cell_type": "code",
   "execution_count": 15,
   "id": "5474ed59",
   "metadata": {},
   "outputs": [],
   "source": [
    "train_data = pd.read_csv(r\"C:\\Users\\PC\\Downloads\\train.csv\")\n",
    "test_data = pd.read_csv(r\"C:\\Users\\PC\\Downloads\\test.csv\")"
   ]
  },
  {
   "cell_type": "code",
   "execution_count": 16,
   "id": "7a5353b5",
   "metadata": {},
   "outputs": [
    {
     "data": {
      "text/html": [
       "<div>\n",
       "<style scoped>\n",
       "    .dataframe tbody tr th:only-of-type {\n",
       "        vertical-align: middle;\n",
       "    }\n",
       "\n",
       "    .dataframe tbody tr th {\n",
       "        vertical-align: top;\n",
       "    }\n",
       "\n",
       "    .dataframe thead th {\n",
       "        text-align: right;\n",
       "    }\n",
       "</style>\n",
       "<table border=\"1\" class=\"dataframe\">\n",
       "  <thead>\n",
       "    <tr style=\"text-align: right;\">\n",
       "      <th></th>\n",
       "      <th>Id</th>\n",
       "      <th>Home Ownership</th>\n",
       "      <th>Annual Income</th>\n",
       "      <th>Years in current job</th>\n",
       "      <th>Tax Liens</th>\n",
       "      <th>Number of Open Accounts</th>\n",
       "      <th>Years of Credit History</th>\n",
       "      <th>Maximum Open Credit</th>\n",
       "      <th>Number of Credit Problems</th>\n",
       "      <th>Months since last delinquent</th>\n",
       "      <th>Bankruptcies</th>\n",
       "      <th>Purpose</th>\n",
       "      <th>Term</th>\n",
       "      <th>Current Loan Amount</th>\n",
       "      <th>Current Credit Balance</th>\n",
       "      <th>Monthly Debt</th>\n",
       "      <th>Credit Score</th>\n",
       "      <th>Credit Default</th>\n",
       "    </tr>\n",
       "  </thead>\n",
       "  <tbody>\n",
       "    <tr>\n",
       "      <th>0</th>\n",
       "      <td>0</td>\n",
       "      <td>Own Home</td>\n",
       "      <td>482087.0</td>\n",
       "      <td>NaN</td>\n",
       "      <td>0.0</td>\n",
       "      <td>11.0</td>\n",
       "      <td>26.3</td>\n",
       "      <td>685960.0</td>\n",
       "      <td>1.0</td>\n",
       "      <td>NaN</td>\n",
       "      <td>1.0</td>\n",
       "      <td>debt consolidation</td>\n",
       "      <td>Short Term</td>\n",
       "      <td>99999999.0</td>\n",
       "      <td>47386.0</td>\n",
       "      <td>7914.0</td>\n",
       "      <td>749.0</td>\n",
       "      <td>0</td>\n",
       "    </tr>\n",
       "    <tr>\n",
       "      <th>1</th>\n",
       "      <td>1</td>\n",
       "      <td>Own Home</td>\n",
       "      <td>1025487.0</td>\n",
       "      <td>10+ years</td>\n",
       "      <td>0.0</td>\n",
       "      <td>15.0</td>\n",
       "      <td>15.3</td>\n",
       "      <td>1181730.0</td>\n",
       "      <td>0.0</td>\n",
       "      <td>NaN</td>\n",
       "      <td>0.0</td>\n",
       "      <td>debt consolidation</td>\n",
       "      <td>Long Term</td>\n",
       "      <td>264968.0</td>\n",
       "      <td>394972.0</td>\n",
       "      <td>18373.0</td>\n",
       "      <td>737.0</td>\n",
       "      <td>1</td>\n",
       "    </tr>\n",
       "    <tr>\n",
       "      <th>2</th>\n",
       "      <td>2</td>\n",
       "      <td>Home Mortgage</td>\n",
       "      <td>751412.0</td>\n",
       "      <td>8 years</td>\n",
       "      <td>0.0</td>\n",
       "      <td>11.0</td>\n",
       "      <td>35.0</td>\n",
       "      <td>1182434.0</td>\n",
       "      <td>0.0</td>\n",
       "      <td>NaN</td>\n",
       "      <td>0.0</td>\n",
       "      <td>debt consolidation</td>\n",
       "      <td>Short Term</td>\n",
       "      <td>99999999.0</td>\n",
       "      <td>308389.0</td>\n",
       "      <td>13651.0</td>\n",
       "      <td>742.0</td>\n",
       "      <td>0</td>\n",
       "    </tr>\n",
       "    <tr>\n",
       "      <th>3</th>\n",
       "      <td>3</td>\n",
       "      <td>Own Home</td>\n",
       "      <td>805068.0</td>\n",
       "      <td>6 years</td>\n",
       "      <td>0.0</td>\n",
       "      <td>8.0</td>\n",
       "      <td>22.5</td>\n",
       "      <td>147400.0</td>\n",
       "      <td>1.0</td>\n",
       "      <td>NaN</td>\n",
       "      <td>1.0</td>\n",
       "      <td>debt consolidation</td>\n",
       "      <td>Short Term</td>\n",
       "      <td>121396.0</td>\n",
       "      <td>95855.0</td>\n",
       "      <td>11338.0</td>\n",
       "      <td>694.0</td>\n",
       "      <td>0</td>\n",
       "    </tr>\n",
       "    <tr>\n",
       "      <th>4</th>\n",
       "      <td>4</td>\n",
       "      <td>Rent</td>\n",
       "      <td>776264.0</td>\n",
       "      <td>8 years</td>\n",
       "      <td>0.0</td>\n",
       "      <td>13.0</td>\n",
       "      <td>13.6</td>\n",
       "      <td>385836.0</td>\n",
       "      <td>1.0</td>\n",
       "      <td>NaN</td>\n",
       "      <td>0.0</td>\n",
       "      <td>debt consolidation</td>\n",
       "      <td>Short Term</td>\n",
       "      <td>125840.0</td>\n",
       "      <td>93309.0</td>\n",
       "      <td>7180.0</td>\n",
       "      <td>719.0</td>\n",
       "      <td>0</td>\n",
       "    </tr>\n",
       "  </tbody>\n",
       "</table>\n",
       "</div>"
      ],
      "text/plain": [
       "   Id Home Ownership  Annual Income Years in current job  Tax Liens  \\\n",
       "0   0       Own Home       482087.0                  NaN        0.0   \n",
       "1   1       Own Home      1025487.0            10+ years        0.0   \n",
       "2   2  Home Mortgage       751412.0              8 years        0.0   \n",
       "3   3       Own Home       805068.0              6 years        0.0   \n",
       "4   4           Rent       776264.0              8 years        0.0   \n",
       "\n",
       "   Number of Open Accounts  Years of Credit History  Maximum Open Credit  \\\n",
       "0                     11.0                     26.3             685960.0   \n",
       "1                     15.0                     15.3            1181730.0   \n",
       "2                     11.0                     35.0            1182434.0   \n",
       "3                      8.0                     22.5             147400.0   \n",
       "4                     13.0                     13.6             385836.0   \n",
       "\n",
       "   Number of Credit Problems  Months since last delinquent  Bankruptcies  \\\n",
       "0                        1.0                           NaN           1.0   \n",
       "1                        0.0                           NaN           0.0   \n",
       "2                        0.0                           NaN           0.0   \n",
       "3                        1.0                           NaN           1.0   \n",
       "4                        1.0                           NaN           0.0   \n",
       "\n",
       "              Purpose        Term  Current Loan Amount  \\\n",
       "0  debt consolidation  Short Term           99999999.0   \n",
       "1  debt consolidation   Long Term             264968.0   \n",
       "2  debt consolidation  Short Term           99999999.0   \n",
       "3  debt consolidation  Short Term             121396.0   \n",
       "4  debt consolidation  Short Term             125840.0   \n",
       "\n",
       "   Current Credit Balance  Monthly Debt  Credit Score  Credit Default  \n",
       "0                 47386.0        7914.0         749.0               0  \n",
       "1                394972.0       18373.0         737.0               1  \n",
       "2                308389.0       13651.0         742.0               0  \n",
       "3                 95855.0       11338.0         694.0               0  \n",
       "4                 93309.0        7180.0         719.0               0  "
      ]
     },
     "execution_count": 16,
     "metadata": {},
     "output_type": "execute_result"
    }
   ],
   "source": [
    "train_data.head()"
   ]
  },
  {
   "cell_type": "code",
   "execution_count": 17,
   "id": "0371df97",
   "metadata": {},
   "outputs": [
    {
     "data": {
      "text/plain": [
       "(2500, 17)"
      ]
     },
     "execution_count": 17,
     "metadata": {},
     "output_type": "execute_result"
    }
   ],
   "source": [
    "test_data.shape"
   ]
  },
  {
   "cell_type": "code",
   "execution_count": 18,
   "id": "b3e488a0",
   "metadata": {},
   "outputs": [
    {
     "data": {
      "text/html": [
       "<div>\n",
       "<style scoped>\n",
       "    .dataframe tbody tr th:only-of-type {\n",
       "        vertical-align: middle;\n",
       "    }\n",
       "\n",
       "    .dataframe tbody tr th {\n",
       "        vertical-align: top;\n",
       "    }\n",
       "\n",
       "    .dataframe thead th {\n",
       "        text-align: right;\n",
       "    }\n",
       "</style>\n",
       "<table border=\"1\" class=\"dataframe\">\n",
       "  <thead>\n",
       "    <tr style=\"text-align: right;\">\n",
       "      <th></th>\n",
       "      <th>Id</th>\n",
       "      <th>Home Ownership</th>\n",
       "      <th>Annual Income</th>\n",
       "      <th>Years in current job</th>\n",
       "      <th>Tax Liens</th>\n",
       "      <th>Number of Open Accounts</th>\n",
       "      <th>Years of Credit History</th>\n",
       "      <th>Maximum Open Credit</th>\n",
       "      <th>Number of Credit Problems</th>\n",
       "      <th>Months since last delinquent</th>\n",
       "      <th>Bankruptcies</th>\n",
       "      <th>Purpose</th>\n",
       "      <th>Term</th>\n",
       "      <th>Current Loan Amount</th>\n",
       "      <th>Current Credit Balance</th>\n",
       "      <th>Monthly Debt</th>\n",
       "      <th>Credit Score</th>\n",
       "    </tr>\n",
       "  </thead>\n",
       "  <tbody>\n",
       "    <tr>\n",
       "      <th>0</th>\n",
       "      <td>7500</td>\n",
       "      <td>Rent</td>\n",
       "      <td>NaN</td>\n",
       "      <td>4 years</td>\n",
       "      <td>0.0</td>\n",
       "      <td>9.0</td>\n",
       "      <td>12.5</td>\n",
       "      <td>220968.0</td>\n",
       "      <td>0.0</td>\n",
       "      <td>70.0</td>\n",
       "      <td>0.0</td>\n",
       "      <td>debt consolidation</td>\n",
       "      <td>Short Term</td>\n",
       "      <td>162470.0</td>\n",
       "      <td>105906.0</td>\n",
       "      <td>6813.0</td>\n",
       "      <td>NaN</td>\n",
       "    </tr>\n",
       "    <tr>\n",
       "      <th>1</th>\n",
       "      <td>7501</td>\n",
       "      <td>Rent</td>\n",
       "      <td>231838.0</td>\n",
       "      <td>1 year</td>\n",
       "      <td>0.0</td>\n",
       "      <td>6.0</td>\n",
       "      <td>32.7</td>\n",
       "      <td>55946.0</td>\n",
       "      <td>0.0</td>\n",
       "      <td>8.0</td>\n",
       "      <td>0.0</td>\n",
       "      <td>educational expenses</td>\n",
       "      <td>Short Term</td>\n",
       "      <td>78298.0</td>\n",
       "      <td>46037.0</td>\n",
       "      <td>2318.0</td>\n",
       "      <td>699.0</td>\n",
       "    </tr>\n",
       "    <tr>\n",
       "      <th>2</th>\n",
       "      <td>7502</td>\n",
       "      <td>Home Mortgage</td>\n",
       "      <td>1152540.0</td>\n",
       "      <td>3 years</td>\n",
       "      <td>0.0</td>\n",
       "      <td>10.0</td>\n",
       "      <td>13.7</td>\n",
       "      <td>204600.0</td>\n",
       "      <td>0.0</td>\n",
       "      <td>NaN</td>\n",
       "      <td>0.0</td>\n",
       "      <td>debt consolidation</td>\n",
       "      <td>Short Term</td>\n",
       "      <td>200178.0</td>\n",
       "      <td>146490.0</td>\n",
       "      <td>18729.0</td>\n",
       "      <td>7260.0</td>\n",
       "    </tr>\n",
       "    <tr>\n",
       "      <th>3</th>\n",
       "      <td>7503</td>\n",
       "      <td>Home Mortgage</td>\n",
       "      <td>1220313.0</td>\n",
       "      <td>10+ years</td>\n",
       "      <td>0.0</td>\n",
       "      <td>16.0</td>\n",
       "      <td>17.0</td>\n",
       "      <td>456302.0</td>\n",
       "      <td>0.0</td>\n",
       "      <td>70.0</td>\n",
       "      <td>0.0</td>\n",
       "      <td>debt consolidation</td>\n",
       "      <td>Short Term</td>\n",
       "      <td>217382.0</td>\n",
       "      <td>213199.0</td>\n",
       "      <td>27559.0</td>\n",
       "      <td>739.0</td>\n",
       "    </tr>\n",
       "    <tr>\n",
       "      <th>4</th>\n",
       "      <td>7504</td>\n",
       "      <td>Home Mortgage</td>\n",
       "      <td>2340952.0</td>\n",
       "      <td>6 years</td>\n",
       "      <td>0.0</td>\n",
       "      <td>11.0</td>\n",
       "      <td>23.6</td>\n",
       "      <td>1207272.0</td>\n",
       "      <td>0.0</td>\n",
       "      <td>NaN</td>\n",
       "      <td>0.0</td>\n",
       "      <td>debt consolidation</td>\n",
       "      <td>Long Term</td>\n",
       "      <td>777634.0</td>\n",
       "      <td>425391.0</td>\n",
       "      <td>42605.0</td>\n",
       "      <td>706.0</td>\n",
       "    </tr>\n",
       "  </tbody>\n",
       "</table>\n",
       "</div>"
      ],
      "text/plain": [
       "     Id Home Ownership  Annual Income Years in current job  Tax Liens  \\\n",
       "0  7500           Rent            NaN              4 years        0.0   \n",
       "1  7501           Rent       231838.0               1 year        0.0   \n",
       "2  7502  Home Mortgage      1152540.0              3 years        0.0   \n",
       "3  7503  Home Mortgage      1220313.0            10+ years        0.0   \n",
       "4  7504  Home Mortgage      2340952.0              6 years        0.0   \n",
       "\n",
       "   Number of Open Accounts  Years of Credit History  Maximum Open Credit  \\\n",
       "0                      9.0                     12.5             220968.0   \n",
       "1                      6.0                     32.7              55946.0   \n",
       "2                     10.0                     13.7             204600.0   \n",
       "3                     16.0                     17.0             456302.0   \n",
       "4                     11.0                     23.6            1207272.0   \n",
       "\n",
       "   Number of Credit Problems  Months since last delinquent  Bankruptcies  \\\n",
       "0                        0.0                          70.0           0.0   \n",
       "1                        0.0                           8.0           0.0   \n",
       "2                        0.0                           NaN           0.0   \n",
       "3                        0.0                          70.0           0.0   \n",
       "4                        0.0                           NaN           0.0   \n",
       "\n",
       "                Purpose        Term  Current Loan Amount  \\\n",
       "0    debt consolidation  Short Term             162470.0   \n",
       "1  educational expenses  Short Term              78298.0   \n",
       "2    debt consolidation  Short Term             200178.0   \n",
       "3    debt consolidation  Short Term             217382.0   \n",
       "4    debt consolidation   Long Term             777634.0   \n",
       "\n",
       "   Current Credit Balance  Monthly Debt  Credit Score  \n",
       "0                105906.0        6813.0           NaN  \n",
       "1                 46037.0        2318.0         699.0  \n",
       "2                146490.0       18729.0        7260.0  \n",
       "3                213199.0       27559.0         739.0  \n",
       "4                425391.0       42605.0         706.0  "
      ]
     },
     "execution_count": 18,
     "metadata": {},
     "output_type": "execute_result"
    }
   ],
   "source": [
    "test_data.head()"
   ]
  },
  {
   "cell_type": "code",
   "execution_count": 19,
   "id": "e4c37472",
   "metadata": {},
   "outputs": [
    {
     "data": {
      "text/plain": [
       "(7500, 18)"
      ]
     },
     "execution_count": 19,
     "metadata": {},
     "output_type": "execute_result"
    }
   ],
   "source": [
    "train_data.shape"
   ]
  },
  {
   "cell_type": "code",
   "execution_count": 20,
   "id": "da7a073b",
   "metadata": {},
   "outputs": [
    {
     "data": {
      "text/plain": [
       "Id                                 0\n",
       "Home Ownership                     0\n",
       "Annual Income                   1557\n",
       "Years in current job             371\n",
       "Tax Liens                          0\n",
       "Number of Open Accounts            0\n",
       "Years of Credit History            0\n",
       "Maximum Open Credit                0\n",
       "Number of Credit Problems          0\n",
       "Months since last delinquent    4081\n",
       "Bankruptcies                      14\n",
       "Purpose                            0\n",
       "Term                               0\n",
       "Current Loan Amount                0\n",
       "Current Credit Balance             0\n",
       "Monthly Debt                       0\n",
       "Credit Score                    1557\n",
       "Credit Default                     0\n",
       "dtype: int64"
      ]
     },
     "execution_count": 20,
     "metadata": {},
     "output_type": "execute_result"
    }
   ],
   "source": [
    "train_data.isnull().sum()"
   ]
  },
  {
   "cell_type": "code",
   "execution_count": 21,
   "id": "377753bc",
   "metadata": {},
   "outputs": [
    {
     "data": {
      "text/plain": [
       "Id                                 0\n",
       "Home Ownership                     0\n",
       "Annual Income                    513\n",
       "Years in current job              86\n",
       "Tax Liens                          0\n",
       "Number of Open Accounts            0\n",
       "Years of Credit History            0\n",
       "Maximum Open Credit                0\n",
       "Number of Credit Problems          0\n",
       "Months since last delinquent    1358\n",
       "Bankruptcies                       3\n",
       "Purpose                            0\n",
       "Term                               0\n",
       "Current Loan Amount                0\n",
       "Current Credit Balance             0\n",
       "Monthly Debt                       0\n",
       "Credit Score                     513\n",
       "dtype: int64"
      ]
     },
     "execution_count": 21,
     "metadata": {},
     "output_type": "execute_result"
    }
   ],
   "source": [
    "test_data.isnull().sum()"
   ]
  },
  {
   "cell_type": "code",
   "execution_count": 22,
   "id": "ef0ae028",
   "metadata": {},
   "outputs": [
    {
     "data": {
      "text/plain": [
       "<matplotlib.legend.Legend at 0x1895a11eeb0>"
      ]
     },
     "execution_count": 22,
     "metadata": {},
     "output_type": "execute_result"
    },
    {
     "data": {
      "image/png": "[encoded data removed]",
      "text/plain": [
       "<Figure size 432x288 with 1 Axes>"
      ]
     },
     "metadata": {
      "needs_background": "light"
     },
     "output_type": "display_data"
    }
   ],
   "source": [
    "df = train_data.copy()\n",
    "\n",
    "def random_sample(df,variable,median):\n",
    "\tdf[variable+\"_median\"] = df[variable].fillna(median)\n",
    "\tdf[variable+\"_random\"] = df[variable]\n",
    "\trandom_sample = df[variable].dropna().sample(df[variable].isnull().sum(),random_state=0,replace=True)\n",
    "\trandom_sample.index = df[df[variable].isnull()].index\t\n",
    "\tdf.loc[df[variable].isnull(),variable+\"_random\"] = random_sample\n",
    "random_sample(df,\"Months since last delinquent\",df[\"Months since last delinquent\"].median())\n",
    "fig = plt.figure()\n",
    "ax = fig.add_subplot(111)\n",
    "df['Months since last delinquent'].plot(kind='kde', ax=ax)\n",
    "df[\"Months since last delinquent_median\"].plot(kind='kde', ax=ax, color='red')\n",
    "df[\"Months since last delinquent_random\"].plot(kind='kde', ax=ax, color='green')\n",
    "lines, labels = ax.get_legend_handles_labels()\n",
    "ax.legend(lines, labels, loc='best')"
   ]
  },
  {
   "cell_type": "code",
   "execution_count": 23,
   "id": "c34e5cca",
   "metadata": {},
   "outputs": [
    {
     "data": {
      "text/plain": [
       "<AxesSubplot:ylabel='Density'>"
      ]
     },
     "execution_count": 23,
     "metadata": {},
     "output_type": "execute_result"
    },
    {
     "data": {
      "image/png": "[encoded data removed]",
      "text/plain": [
       "<Figure size 432x288 with 1 Axes>"
      ]
     },
     "metadata": {
      "needs_background": "light"
     },
     "output_type": "display_data"
    }
   ],
   "source": [
    "train_data[\"Months since last delinquent\"].plot(kind=\"kde\")\n",
    "df[\"Months since last delinquent_random\"].plot(kind=\"kde\")"
   ]
  },
  {
   "cell_type": "code",
   "execution_count": 24,
   "id": "e2d09e7e",
   "metadata": {},
   "outputs": [],
   "source": [
    "train_data[\"Months since last delinquent\"] = df[\"Months since last delinquent_random\"]"
   ]
  },
  {
   "cell_type": "code",
   "execution_count": 25,
   "id": "149b3862",
   "metadata": {},
   "outputs": [
    {
     "data": {
      "text/plain": [
       "<matplotlib.legend.Legend at 0x1895a9432e0>"
      ]
     },
     "execution_count": 25,
     "metadata": {},
     "output_type": "execute_result"
    },
    {
     "data": {
      "image/png": "[encoded data removed]",
      "text/plain": [
       "<Figure size 432x288 with 1 Axes>"
      ]
     },
     "metadata": {
      "needs_background": "light"
     },
     "output_type": "display_data"
    }
   ],
   "source": [
    "df = test_data.copy()\n",
    "\n",
    "def random_sample(df,variable,median):\n",
    "\tdf[variable+\"_median\"] = df[variable].fillna(median)\n",
    "\tdf[variable+\"_random\"] = df[variable]\n",
    "\trandom_sample = df[variable].dropna().sample(df[variable].isnull().sum(),random_state=0,replace=True)\n",
    "\trandom_sample.index = df[df[variable].isnull()].index\t\n",
    "\tdf.loc[df[variable].isnull(),variable+\"_random\"] = random_sample\n",
    "random_sample(df,\"Months since last delinquent\",df[\"Months since last delinquent\"].median())\n",
    "fig = plt.figure()\n",
    "ax = fig.add_subplot(111)\n",
    "df['Months since last delinquent'].plot(kind='kde', ax=ax)\n",
    "df[\"Months since last delinquent_median\"].plot(kind='kde', ax=ax, color='red')\n",
    "df[\"Months since last delinquent_random\"].plot(kind='kde', ax=ax, color='green')\n",
    "lines, labels = ax.get_legend_handles_labels()\n",
    "ax.legend(lines, labels, loc='best')"
   ]
  },
  {
   "cell_type": "code",
   "execution_count": 26,
   "id": "b1dd53e4",
   "metadata": {},
   "outputs": [
    {
     "data": {
      "text/plain": [
       "<AxesSubplot:ylabel='Density'>"
      ]
     },
     "execution_count": 26,
     "metadata": {},
     "output_type": "execute_result"
    },
    {
     "data": {
      "image/png": "[encoded data removed]",
      "text/plain": [
       "<Figure size 432x288 with 1 Axes>"
      ]
     },
     "metadata": {
      "needs_background": "light"
     },
     "output_type": "display_data"
    }
   ],
   "source": [
    "test_data[\"Months since last delinquent\"].plot(kind=\"kde\")\n",
    "df[\"Months since last delinquent_random\"].plot(kind=\"kde\")"
   ]
  },
  {
   "cell_type": "code",
   "execution_count": 27,
   "id": "4adc96dc",
   "metadata": {},
   "outputs": [],
   "source": [
    "test_data[\"Months since last delinquent\"] = df[\"Months since last delinquent_random\"]"
   ]
  },
  {
   "cell_type": "code",
   "execution_count": 28,
   "id": "6d761f49",
   "metadata": {},
   "outputs": [
    {
     "data": {
      "text/plain": [
       "<matplotlib.legend.Legend at 0x1895aa0ca90>"
      ]
     },
     "execution_count": 28,
     "metadata": {},
     "output_type": "execute_result"
    },
    {
     "data": {
      "image/png": "[encoded data removed]",
      "text/plain": [
       "<Figure size 432x288 with 1 Axes>"
      ]
     },
     "metadata": {
      "needs_background": "light"
     },
     "output_type": "display_data"
    }
   ],
   "source": [
    "# Annual Income\n",
    "\n",
    "df = train_data.copy()\n",
    "\n",
    "def random_sample(df,variable,median):\n",
    "\tdf[variable+\"_median\"] = df[variable].fillna(median)\n",
    "\tdf[variable+\"_random\"] = df[variable]\n",
    "\trandom_sample = df[variable].dropna().sample(df[variable].isnull().sum(),random_state=0,replace=True)\n",
    "\trandom_sample.index = df[df[variable].isnull()].index\t\n",
    "\tdf.loc[df[variable].isnull(),variable+\"_random\"] = random_sample\n",
    "random_sample(df,\"Annual Income\",df[\"Annual Income\"].median())\n",
    "fig = plt.figure()\n",
    "ax = fig.add_subplot(111)\n",
    "df['Annual Income'].plot(kind='kde', ax=ax)\n",
    "df[\"Annual Income_median\"].plot(kind='kde', ax=ax, color='red')\n",
    "df[\"Annual Income_random\"].plot(kind='kde', ax=ax, color='green')\n",
    "lines, labels = ax.get_legend_handles_labels()\n",
    "ax.legend(lines, labels, loc='best')"
   ]
  },
  {
   "cell_type": "code",
   "execution_count": 29,
   "id": "3883c248",
   "metadata": {},
   "outputs": [],
   "source": [
    "train_data['Annual Income'] = df[\"Annual Income_random\"]"
   ]
  },
  {
   "cell_type": "code",
   "execution_count": 30,
   "id": "3fdb6baf",
   "metadata": {},
   "outputs": [
    {
     "data": {
      "text/plain": [
       "<matplotlib.legend.Legend at 0x1895aa94b20>"
      ]
     },
     "execution_count": 30,
     "metadata": {},
     "output_type": "execute_result"
    },
    {
     "data": {
      "image/png": "[encoded data removed]",
      "text/plain": [
       "<Figure size 432x288 with 1 Axes>"
      ]
     },
     "metadata": {
      "needs_background": "light"
     },
     "output_type": "display_data"
    }
   ],
   "source": [
    "# Annual Income\n",
    "\n",
    "df = test_data.copy()\n",
    "\n",
    "def random_sample(df,variable,median):\n",
    "\tdf[variable+\"_median\"] = df[variable].fillna(median)\n",
    "\tdf[variable+\"_random\"] = df[variable]\n",
    "\trandom_sample = df[variable].dropna().sample(df[variable].isnull().sum(),random_state=0,replace=True)\n",
    "\trandom_sample.index = df[df[variable].isnull()].index\t\n",
    "\tdf.loc[df[variable].isnull(),variable+\"_random\"] = random_sample\n",
    "random_sample(df,\"Annual Income\",df[\"Annual Income\"].median())\n",
    "fig = plt.figure()\n",
    "ax = fig.add_subplot(111)\n",
    "df['Annual Income'].plot(kind='kde', ax=ax)\n",
    "df[\"Annual Income_median\"].plot(kind='kde', ax=ax, color='red')\n",
    "df[\"Annual Income_random\"].plot(kind='kde', ax=ax, color='green')\n",
    "lines, labels = ax.get_legend_handles_labels()\n",
    "ax.legend(lines, labels, loc='best')"
   ]
  },
  {
   "cell_type": "code",
   "execution_count": 31,
   "id": "acefc0e5",
   "metadata": {},
   "outputs": [],
   "source": [
    "test_data['Annual Income'] = df[\"Annual Income_random\"]"
   ]
  },
  {
   "cell_type": "code",
   "execution_count": 32,
   "id": "7ce833a5",
   "metadata": {},
   "outputs": [],
   "source": [
    "train_data[\"Bankruptcies\"].fillna(0.0,inplace=True)"
   ]
  },
  {
   "cell_type": "code",
   "execution_count": 33,
   "id": "e9285a1d",
   "metadata": {},
   "outputs": [],
   "source": [
    "test_data[\"Bankruptcies\"].fillna(0.0,inplace=True)"
   ]
  },
  {
   "cell_type": "code",
   "execution_count": 34,
   "id": "2748279a",
   "metadata": {},
   "outputs": [
    {
     "data": {
      "text/plain": [
       "<matplotlib.legend.Legend at 0x1895ab01340>"
      ]
     },
     "execution_count": 34,
     "metadata": {},
     "output_type": "execute_result"
    },
    {
     "data": {
      "image/png": "[encoded data removed]",
      "text/plain": [
       "<Figure size 432x288 with 1 Axes>"
      ]
     },
     "metadata": {
      "needs_background": "light"
     },
     "output_type": "display_data"
    }
   ],
   "source": [
    "\n",
    "df = train_data.copy()\n",
    "\n",
    "def random_sample(df,variable,median):\n",
    "\tdf[variable+\"_median\"] = df[variable].fillna(median)\n",
    "\tdf[variable+\"_random\"] = df[variable]\n",
    "\trandom_sample = df[variable].dropna().sample(df[variable].isnull().sum(),random_state=0,replace=True)\n",
    "\trandom_sample.index = df[df[variable].isnull()].index\t\n",
    "\tdf.loc[df[variable].isnull(),variable+\"_random\"] = random_sample\n",
    "random_sample(df,\"Credit Score\",df[\"Credit Score\"].median())\n",
    "fig = plt.figure()\n",
    "ax = fig.add_subplot(111)\n",
    "df['Credit Score'].plot(kind='kde', ax=ax)\n",
    "df[\"Credit Score_median\"].plot(kind='kde', ax=ax, color='red')\n",
    "df[\"Credit Score_random\"].plot(kind='kde', ax=ax, color='green')\n",
    "lines, labels = ax.get_legend_handles_labels()\n",
    "ax.legend(lines, labels, loc='best')"
   ]
  },
  {
   "cell_type": "code",
   "execution_count": 35,
   "id": "c6a1bd90",
   "metadata": {},
   "outputs": [],
   "source": [
    "train_data['Credit Score'] = df[\"Credit Score_random\"]"
   ]
  },
  {
   "cell_type": "code",
   "execution_count": 36,
   "id": "45c03e4b",
   "metadata": {},
   "outputs": [
    {
     "data": {
      "text/plain": [
       "<matplotlib.legend.Legend at 0x1895ab77a60>"
      ]
     },
     "execution_count": 36,
     "metadata": {},
     "output_type": "execute_result"
    },
    {
     "data": {
      "image/png": "[encoded data removed]",
      "text/plain": [
       "<Figure size 432x288 with 1 Axes>"
      ]
     },
     "metadata": {
      "needs_background": "light"
     },
     "output_type": "display_data"
    }
   ],
   "source": [
    "df = test_data.copy()\n",
    "\n",
    "def random_sample(df,variable,median):\n",
    "\tdf[variable+\"_median\"] = df[variable].fillna(median)\n",
    "\tdf[variable+\"_random\"] = df[variable]\n",
    "\trandom_sample = df[variable].dropna().sample(df[variable].isnull().sum(),random_state=0,replace=True)\n",
    "\trandom_sample.index = df[df[variable].isnull()].index\t\n",
    "\tdf.loc[df[variable].isnull(),variable+\"_random\"] = random_sample\n",
    "random_sample(df,\"Credit Score\",df[\"Credit Score\"].median())\n",
    "fig = plt.figure()\n",
    "ax = fig.add_subplot(111)\n",
    "df['Credit Score'].plot(kind='kde', ax=ax)\n",
    "df[\"Credit Score_median\"].plot(kind='kde', ax=ax, color='red')\n",
    "df[\"Credit Score_random\"].plot(kind='kde', ax=ax, color='green')\n",
    "lines, labels = ax.get_legend_handles_labels()\n",
    "ax.legend(lines, labels, loc='best')"
   ]
  },
  {
   "cell_type": "code",
   "execution_count": 37,
   "id": "8b6030e1",
   "metadata": {},
   "outputs": [],
   "source": [
    "test_data['Credit Score'] = df[\"Credit Score_random\"]"
   ]
  },
  {
   "cell_type": "code",
   "execution_count": 38,
   "id": "781003a4",
   "metadata": {},
   "outputs": [],
   "source": [
    "train_data[\"Years in current job\"].fillna(\"0 years\",inplace=True)"
   ]
  },
  {
   "cell_type": "code",
   "execution_count": 39,
   "id": "a6423de4",
   "metadata": {},
   "outputs": [
    {
     "data": {
      "text/plain": [
       "array(['0 years', '10+ years', '8 years', '6 years', '7 years', '5 years',\n",
       "       '1 year', '< 1 year', '4 years', '3 years', '2 years', '9 years'],\n",
       "      dtype=object)"
      ]
     },
     "execution_count": 39,
     "metadata": {},
     "output_type": "execute_result"
    }
   ],
   "source": [
    "train_data[\"Years in current job\"].unique()"
   ]
  },
  {
   "cell_type": "code",
   "execution_count": 40,
   "id": "3592509d",
   "metadata": {},
   "outputs": [
    {
     "data": {
      "text/plain": [
       "0         0\n",
       "1       10+\n",
       "2         8\n",
       "3         6\n",
       "4         8\n",
       "       ... \n",
       "7495      <\n",
       "7496      1\n",
       "7497      6\n",
       "7498      0\n",
       "7499      4\n",
       "Name: Years in current job_1, Length: 7500, dtype: object"
      ]
     },
     "execution_count": 40,
     "metadata": {},
     "output_type": "execute_result"
    }
   ],
   "source": [
    "train_data[\"Years in current job_1\"] = train_data[\"Years in current job\"].apply(lambda x:x.split(\" \")[0])\n",
    "train_data[\"Years in current job_1\"]"
   ]
  },
  {
   "cell_type": "code",
   "execution_count": 41,
   "id": "7a25069b",
   "metadata": {},
   "outputs": [
    {
     "data": {
      "text/plain": [
       "array(['0', '10+', '8', '6', '7', '5', '1', '<', '4', '3', '2', '9'],\n",
       "      dtype=object)"
      ]
     },
     "execution_count": 41,
     "metadata": {},
     "output_type": "execute_result"
    }
   ],
   "source": [
    "train_data[\"Years in current job_1\"].unique()"
   ]
  },
  {
   "cell_type": "code",
   "execution_count": 42,
   "id": "381810dc",
   "metadata": {},
   "outputs": [],
   "source": [
    "x = train_data[\"Years in current job_1\"]\n",
    "value_smtg = []\n",
    "for s in x:\n",
    "    if s == '10+':\n",
    "        value_smtg.append(\"11\")\n",
    "    elif s == \"<\":\n",
    "        value_smtg.append(\"1\")\n",
    "    else:\n",
    "        value_smtg.append(s)"
   ]
  },
  {
   "cell_type": "code",
   "execution_count": 43,
   "id": "d4895639",
   "metadata": {},
   "outputs": [
    {
     "data": {
      "text/html": [
       "<div>\n",
       "<style scoped>\n",
       "    .dataframe tbody tr th:only-of-type {\n",
       "        vertical-align: middle;\n",
       "    }\n",
       "\n",
       "    .dataframe tbody tr th {\n",
       "        vertical-align: top;\n",
       "    }\n",
       "\n",
       "    .dataframe thead th {\n",
       "        text-align: right;\n",
       "    }\n",
       "</style>\n",
       "<table border=\"1\" class=\"dataframe\">\n",
       "  <thead>\n",
       "    <tr style=\"text-align: right;\">\n",
       "      <th></th>\n",
       "      <th>Id</th>\n",
       "      <th>Home Ownership</th>\n",
       "      <th>Annual Income</th>\n",
       "      <th>Years in current job</th>\n",
       "      <th>Tax Liens</th>\n",
       "      <th>Number of Open Accounts</th>\n",
       "      <th>Years of Credit History</th>\n",
       "      <th>Maximum Open Credit</th>\n",
       "      <th>Number of Credit Problems</th>\n",
       "      <th>Months since last delinquent</th>\n",
       "      <th>Bankruptcies</th>\n",
       "      <th>Purpose</th>\n",
       "      <th>Term</th>\n",
       "      <th>Current Loan Amount</th>\n",
       "      <th>Current Credit Balance</th>\n",
       "      <th>Monthly Debt</th>\n",
       "      <th>Credit Score</th>\n",
       "      <th>Credit Default</th>\n",
       "      <th>Years in current job_1</th>\n",
       "    </tr>\n",
       "  </thead>\n",
       "  <tbody>\n",
       "    <tr>\n",
       "      <th>0</th>\n",
       "      <td>0</td>\n",
       "      <td>Own Home</td>\n",
       "      <td>482087.0</td>\n",
       "      <td>0 years</td>\n",
       "      <td>0.0</td>\n",
       "      <td>11.0</td>\n",
       "      <td>26.3</td>\n",
       "      <td>685960.0</td>\n",
       "      <td>1.0</td>\n",
       "      <td>37.0</td>\n",
       "      <td>1.0</td>\n",
       "      <td>debt consolidation</td>\n",
       "      <td>Short Term</td>\n",
       "      <td>99999999.0</td>\n",
       "      <td>47386.0</td>\n",
       "      <td>7914.0</td>\n",
       "      <td>749.0</td>\n",
       "      <td>0</td>\n",
       "      <td>0</td>\n",
       "    </tr>\n",
       "    <tr>\n",
       "      <th>1</th>\n",
       "      <td>1</td>\n",
       "      <td>Own Home</td>\n",
       "      <td>1025487.0</td>\n",
       "      <td>10+ years</td>\n",
       "      <td>0.0</td>\n",
       "      <td>15.0</td>\n",
       "      <td>15.3</td>\n",
       "      <td>1181730.0</td>\n",
       "      <td>0.0</td>\n",
       "      <td>62.0</td>\n",
       "      <td>0.0</td>\n",
       "      <td>debt consolidation</td>\n",
       "      <td>Long Term</td>\n",
       "      <td>264968.0</td>\n",
       "      <td>394972.0</td>\n",
       "      <td>18373.0</td>\n",
       "      <td>737.0</td>\n",
       "      <td>1</td>\n",
       "      <td>11</td>\n",
       "    </tr>\n",
       "    <tr>\n",
       "      <th>2</th>\n",
       "      <td>2</td>\n",
       "      <td>Home Mortgage</td>\n",
       "      <td>751412.0</td>\n",
       "      <td>8 years</td>\n",
       "      <td>0.0</td>\n",
       "      <td>11.0</td>\n",
       "      <td>35.0</td>\n",
       "      <td>1182434.0</td>\n",
       "      <td>0.0</td>\n",
       "      <td>10.0</td>\n",
       "      <td>0.0</td>\n",
       "      <td>debt consolidation</td>\n",
       "      <td>Short Term</td>\n",
       "      <td>99999999.0</td>\n",
       "      <td>308389.0</td>\n",
       "      <td>13651.0</td>\n",
       "      <td>742.0</td>\n",
       "      <td>0</td>\n",
       "      <td>8</td>\n",
       "    </tr>\n",
       "    <tr>\n",
       "      <th>3</th>\n",
       "      <td>3</td>\n",
       "      <td>Own Home</td>\n",
       "      <td>805068.0</td>\n",
       "      <td>6 years</td>\n",
       "      <td>0.0</td>\n",
       "      <td>8.0</td>\n",
       "      <td>22.5</td>\n",
       "      <td>147400.0</td>\n",
       "      <td>1.0</td>\n",
       "      <td>55.0</td>\n",
       "      <td>1.0</td>\n",
       "      <td>debt consolidation</td>\n",
       "      <td>Short Term</td>\n",
       "      <td>121396.0</td>\n",
       "      <td>95855.0</td>\n",
       "      <td>11338.0</td>\n",
       "      <td>694.0</td>\n",
       "      <td>0</td>\n",
       "      <td>6</td>\n",
       "    </tr>\n",
       "    <tr>\n",
       "      <th>4</th>\n",
       "      <td>4</td>\n",
       "      <td>Rent</td>\n",
       "      <td>776264.0</td>\n",
       "      <td>8 years</td>\n",
       "      <td>0.0</td>\n",
       "      <td>13.0</td>\n",
       "      <td>13.6</td>\n",
       "      <td>385836.0</td>\n",
       "      <td>1.0</td>\n",
       "      <td>33.0</td>\n",
       "      <td>0.0</td>\n",
       "      <td>debt consolidation</td>\n",
       "      <td>Short Term</td>\n",
       "      <td>125840.0</td>\n",
       "      <td>93309.0</td>\n",
       "      <td>7180.0</td>\n",
       "      <td>719.0</td>\n",
       "      <td>0</td>\n",
       "      <td>8</td>\n",
       "    </tr>\n",
       "  </tbody>\n",
       "</table>\n",
       "</div>"
      ],
      "text/plain": [
       "   Id Home Ownership  Annual Income Years in current job  Tax Liens  \\\n",
       "0   0       Own Home       482087.0              0 years        0.0   \n",
       "1   1       Own Home      1025487.0            10+ years        0.0   \n",
       "2   2  Home Mortgage       751412.0              8 years        0.0   \n",
       "3   3       Own Home       805068.0              6 years        0.0   \n",
       "4   4           Rent       776264.0              8 years        0.0   \n",
       "\n",
       "   Number of Open Accounts  Years of Credit History  Maximum Open Credit  \\\n",
       "0                     11.0                     26.3             685960.0   \n",
       "1                     15.0                     15.3            1181730.0   \n",
       "2                     11.0                     35.0            1182434.0   \n",
       "3                      8.0                     22.5             147400.0   \n",
       "4                     13.0                     13.6             385836.0   \n",
       "\n",
       "   Number of Credit Problems  Months since last delinquent  Bankruptcies  \\\n",
       "0                        1.0                          37.0           1.0   \n",
       "1                        0.0                          62.0           0.0   \n",
       "2                        0.0                          10.0           0.0   \n",
       "3                        1.0                          55.0           1.0   \n",
       "4                        1.0                          33.0           0.0   \n",
       "\n",
       "              Purpose        Term  Current Loan Amount  \\\n",
       "0  debt consolidation  Short Term           99999999.0   \n",
       "1  debt consolidation   Long Term             264968.0   \n",
       "2  debt consolidation  Short Term           99999999.0   \n",
       "3  debt consolidation  Short Term             121396.0   \n",
       "4  debt consolidation  Short Term             125840.0   \n",
       "\n",
       "   Current Credit Balance  Monthly Debt  Credit Score  Credit Default  \\\n",
       "0                 47386.0        7914.0         749.0               0   \n",
       "1                394972.0       18373.0         737.0               1   \n",
       "2                308389.0       13651.0         742.0               0   \n",
       "3                 95855.0       11338.0         694.0               0   \n",
       "4                 93309.0        7180.0         719.0               0   \n",
       "\n",
       "  Years in current job_1  \n",
       "0                      0  \n",
       "1                     11  \n",
       "2                      8  \n",
       "3                      6  \n",
       "4                      8  "
      ]
     },
     "execution_count": 43,
     "metadata": {},
     "output_type": "execute_result"
    }
   ],
   "source": [
    "train_data[\"Years in current job_1\"] = value_smtg\n",
    "train_data.head()"
   ]
  },
  {
   "cell_type": "code",
   "execution_count": 44,
   "id": "2bfaf290",
   "metadata": {},
   "outputs": [],
   "source": [
    "train_data.drop(\"Years in current job\",axis=1,inplace=True)"
   ]
  },
  {
   "cell_type": "code",
   "execution_count": 45,
   "id": "3c444905",
   "metadata": {},
   "outputs": [
    {
     "data": {
      "text/html": [
       "<div>\n",
       "<style scoped>\n",
       "    .dataframe tbody tr th:only-of-type {\n",
       "        vertical-align: middle;\n",
       "    }\n",
       "\n",
       "    .dataframe tbody tr th {\n",
       "        vertical-align: top;\n",
       "    }\n",
       "\n",
       "    .dataframe thead th {\n",
       "        text-align: right;\n",
       "    }\n",
       "</style>\n",
       "<table border=\"1\" class=\"dataframe\">\n",
       "  <thead>\n",
       "    <tr style=\"text-align: right;\">\n",
       "      <th></th>\n",
       "      <th>Id</th>\n",
       "      <th>Home Ownership</th>\n",
       "      <th>Annual Income</th>\n",
       "      <th>Tax Liens</th>\n",
       "      <th>Number of Open Accounts</th>\n",
       "      <th>Years of Credit History</th>\n",
       "      <th>Maximum Open Credit</th>\n",
       "      <th>Number of Credit Problems</th>\n",
       "      <th>Months since last delinquent</th>\n",
       "      <th>Bankruptcies</th>\n",
       "      <th>Purpose</th>\n",
       "      <th>Term</th>\n",
       "      <th>Current Loan Amount</th>\n",
       "      <th>Current Credit Balance</th>\n",
       "      <th>Monthly Debt</th>\n",
       "      <th>Credit Score</th>\n",
       "      <th>Credit Default</th>\n",
       "      <th>Years in current job_1</th>\n",
       "    </tr>\n",
       "  </thead>\n",
       "  <tbody>\n",
       "    <tr>\n",
       "      <th>0</th>\n",
       "      <td>0</td>\n",
       "      <td>Own Home</td>\n",
       "      <td>482087.0</td>\n",
       "      <td>0.0</td>\n",
       "      <td>11.0</td>\n",
       "      <td>26.3</td>\n",
       "      <td>685960.0</td>\n",
       "      <td>1.0</td>\n",
       "      <td>37.0</td>\n",
       "      <td>1.0</td>\n",
       "      <td>debt consolidation</td>\n",
       "      <td>Short Term</td>\n",
       "      <td>99999999.0</td>\n",
       "      <td>47386.0</td>\n",
       "      <td>7914.0</td>\n",
       "      <td>749.0</td>\n",
       "      <td>0</td>\n",
       "      <td>0</td>\n",
       "    </tr>\n",
       "    <tr>\n",
       "      <th>1</th>\n",
       "      <td>1</td>\n",
       "      <td>Own Home</td>\n",
       "      <td>1025487.0</td>\n",
       "      <td>0.0</td>\n",
       "      <td>15.0</td>\n",
       "      <td>15.3</td>\n",
       "      <td>1181730.0</td>\n",
       "      <td>0.0</td>\n",
       "      <td>62.0</td>\n",
       "      <td>0.0</td>\n",
       "      <td>debt consolidation</td>\n",
       "      <td>Long Term</td>\n",
       "      <td>264968.0</td>\n",
       "      <td>394972.0</td>\n",
       "      <td>18373.0</td>\n",
       "      <td>737.0</td>\n",
       "      <td>1</td>\n",
       "      <td>11</td>\n",
       "    </tr>\n",
       "    <tr>\n",
       "      <th>2</th>\n",
       "      <td>2</td>\n",
       "      <td>Home Mortgage</td>\n",
       "      <td>751412.0</td>\n",
       "      <td>0.0</td>\n",
       "      <td>11.0</td>\n",
       "      <td>35.0</td>\n",
       "      <td>1182434.0</td>\n",
       "      <td>0.0</td>\n",
       "      <td>10.0</td>\n",
       "      <td>0.0</td>\n",
       "      <td>debt consolidation</td>\n",
       "      <td>Short Term</td>\n",
       "      <td>99999999.0</td>\n",
       "      <td>308389.0</td>\n",
       "      <td>13651.0</td>\n",
       "      <td>742.0</td>\n",
       "      <td>0</td>\n",
       "      <td>8</td>\n",
       "    </tr>\n",
       "    <tr>\n",
       "      <th>3</th>\n",
       "      <td>3</td>\n",
       "      <td>Own Home</td>\n",
       "      <td>805068.0</td>\n",
       "      <td>0.0</td>\n",
       "      <td>8.0</td>\n",
       "      <td>22.5</td>\n",
       "      <td>147400.0</td>\n",
       "      <td>1.0</td>\n",
       "      <td>55.0</td>\n",
       "      <td>1.0</td>\n",
       "      <td>debt consolidation</td>\n",
       "      <td>Short Term</td>\n",
       "      <td>121396.0</td>\n",
       "      <td>95855.0</td>\n",
       "      <td>11338.0</td>\n",
       "      <td>694.0</td>\n",
       "      <td>0</td>\n",
       "      <td>6</td>\n",
       "    </tr>\n",
       "    <tr>\n",
       "      <th>4</th>\n",
       "      <td>4</td>\n",
       "      <td>Rent</td>\n",
       "      <td>776264.0</td>\n",
       "      <td>0.0</td>\n",
       "      <td>13.0</td>\n",
       "      <td>13.6</td>\n",
       "      <td>385836.0</td>\n",
       "      <td>1.0</td>\n",
       "      <td>33.0</td>\n",
       "      <td>0.0</td>\n",
       "      <td>debt consolidation</td>\n",
       "      <td>Short Term</td>\n",
       "      <td>125840.0</td>\n",
       "      <td>93309.0</td>\n",
       "      <td>7180.0</td>\n",
       "      <td>719.0</td>\n",
       "      <td>0</td>\n",
       "      <td>8</td>\n",
       "    </tr>\n",
       "  </tbody>\n",
       "</table>\n",
       "</div>"
      ],
      "text/plain": [
       "   Id Home Ownership  Annual Income  Tax Liens  Number of Open Accounts  \\\n",
       "0   0       Own Home       482087.0        0.0                     11.0   \n",
       "1   1       Own Home      1025487.0        0.0                     15.0   \n",
       "2   2  Home Mortgage       751412.0        0.0                     11.0   \n",
       "3   3       Own Home       805068.0        0.0                      8.0   \n",
       "4   4           Rent       776264.0        0.0                     13.0   \n",
       "\n",
       "   Years of Credit History  Maximum Open Credit  Number of Credit Problems  \\\n",
       "0                     26.3             685960.0                        1.0   \n",
       "1                     15.3            1181730.0                        0.0   \n",
       "2                     35.0            1182434.0                        0.0   \n",
       "3                     22.5             147400.0                        1.0   \n",
       "4                     13.6             385836.0                        1.0   \n",
       "\n",
       "   Months since last delinquent  Bankruptcies             Purpose        Term  \\\n",
       "0                          37.0           1.0  debt consolidation  Short Term   \n",
       "1                          62.0           0.0  debt consolidation   Long Term   \n",
       "2                          10.0           0.0  debt consolidation  Short Term   \n",
       "3                          55.0           1.0  debt consolidation  Short Term   \n",
       "4                          33.0           0.0  debt consolidation  Short Term   \n",
       "\n",
       "   Current Loan Amount  Current Credit Balance  Monthly Debt  Credit Score  \\\n",
       "0           99999999.0                 47386.0        7914.0         749.0   \n",
       "1             264968.0                394972.0       18373.0         737.0   \n",
       "2           99999999.0                308389.0       13651.0         742.0   \n",
       "3             121396.0                 95855.0       11338.0         694.0   \n",
       "4             125840.0                 93309.0        7180.0         719.0   \n",
       "\n",
       "   Credit Default Years in current job_1  \n",
       "0               0                      0  \n",
       "1               1                     11  \n",
       "2               0                      8  \n",
       "3               0                      6  \n",
       "4               0                      8  "
      ]
     },
     "execution_count": 45,
     "metadata": {},
     "output_type": "execute_result"
    }
   ],
   "source": [
    "train_data.head()"
   ]
  },
  {
   "cell_type": "code",
   "execution_count": 46,
   "id": "8319206d",
   "metadata": {},
   "outputs": [
    {
     "data": {
      "text/html": [
       "<div>\n",
       "<style scoped>\n",
       "    .dataframe tbody tr th:only-of-type {\n",
       "        vertical-align: middle;\n",
       "    }\n",
       "\n",
       "    .dataframe tbody tr th {\n",
       "        vertical-align: top;\n",
       "    }\n",
       "\n",
       "    .dataframe thead th {\n",
       "        text-align: right;\n",
       "    }\n",
       "</style>\n",
       "<table border=\"1\" class=\"dataframe\">\n",
       "  <thead>\n",
       "    <tr style=\"text-align: right;\">\n",
       "      <th></th>\n",
       "      <th>Id</th>\n",
       "      <th>Home Ownership</th>\n",
       "      <th>Annual Income</th>\n",
       "      <th>Years in current job</th>\n",
       "      <th>Tax Liens</th>\n",
       "      <th>Number of Open Accounts</th>\n",
       "      <th>Years of Credit History</th>\n",
       "      <th>Maximum Open Credit</th>\n",
       "      <th>Number of Credit Problems</th>\n",
       "      <th>Months since last delinquent</th>\n",
       "      <th>Bankruptcies</th>\n",
       "      <th>Purpose</th>\n",
       "      <th>Term</th>\n",
       "      <th>Current Loan Amount</th>\n",
       "      <th>Current Credit Balance</th>\n",
       "      <th>Monthly Debt</th>\n",
       "      <th>Credit Score</th>\n",
       "      <th>Credit Score_median</th>\n",
       "      <th>Credit Score_random</th>\n",
       "    </tr>\n",
       "  </thead>\n",
       "  <tbody>\n",
       "    <tr>\n",
       "      <th>0</th>\n",
       "      <td>7500</td>\n",
       "      <td>Rent</td>\n",
       "      <td>916199.0</td>\n",
       "      <td>4 years</td>\n",
       "      <td>0.0</td>\n",
       "      <td>9.0</td>\n",
       "      <td>12.5</td>\n",
       "      <td>220968.0</td>\n",
       "      <td>0.0</td>\n",
       "      <td>70.0</td>\n",
       "      <td>0.0</td>\n",
       "      <td>debt consolidation</td>\n",
       "      <td>Short Term</td>\n",
       "      <td>162470.0</td>\n",
       "      <td>105906.0</td>\n",
       "      <td>6813.0</td>\n",
       "      <td>NaN</td>\n",
       "      <td>731.0</td>\n",
       "      <td>716.0</td>\n",
       "    </tr>\n",
       "    <tr>\n",
       "      <th>1</th>\n",
       "      <td>7501</td>\n",
       "      <td>Rent</td>\n",
       "      <td>231838.0</td>\n",
       "      <td>1 year</td>\n",
       "      <td>0.0</td>\n",
       "      <td>6.0</td>\n",
       "      <td>32.7</td>\n",
       "      <td>55946.0</td>\n",
       "      <td>0.0</td>\n",
       "      <td>8.0</td>\n",
       "      <td>0.0</td>\n",
       "      <td>educational expenses</td>\n",
       "      <td>Short Term</td>\n",
       "      <td>78298.0</td>\n",
       "      <td>46037.0</td>\n",
       "      <td>2318.0</td>\n",
       "      <td>699.0</td>\n",
       "      <td>699.0</td>\n",
       "      <td>699.0</td>\n",
       "    </tr>\n",
       "    <tr>\n",
       "      <th>2</th>\n",
       "      <td>7502</td>\n",
       "      <td>Home Mortgage</td>\n",
       "      <td>1152540.0</td>\n",
       "      <td>3 years</td>\n",
       "      <td>0.0</td>\n",
       "      <td>10.0</td>\n",
       "      <td>13.7</td>\n",
       "      <td>204600.0</td>\n",
       "      <td>0.0</td>\n",
       "      <td>48.0</td>\n",
       "      <td>0.0</td>\n",
       "      <td>debt consolidation</td>\n",
       "      <td>Short Term</td>\n",
       "      <td>200178.0</td>\n",
       "      <td>146490.0</td>\n",
       "      <td>18729.0</td>\n",
       "      <td>7260.0</td>\n",
       "      <td>7260.0</td>\n",
       "      <td>7260.0</td>\n",
       "    </tr>\n",
       "    <tr>\n",
       "      <th>3</th>\n",
       "      <td>7503</td>\n",
       "      <td>Home Mortgage</td>\n",
       "      <td>1220313.0</td>\n",
       "      <td>10+ years</td>\n",
       "      <td>0.0</td>\n",
       "      <td>16.0</td>\n",
       "      <td>17.0</td>\n",
       "      <td>456302.0</td>\n",
       "      <td>0.0</td>\n",
       "      <td>70.0</td>\n",
       "      <td>0.0</td>\n",
       "      <td>debt consolidation</td>\n",
       "      <td>Short Term</td>\n",
       "      <td>217382.0</td>\n",
       "      <td>213199.0</td>\n",
       "      <td>27559.0</td>\n",
       "      <td>739.0</td>\n",
       "      <td>739.0</td>\n",
       "      <td>739.0</td>\n",
       "    </tr>\n",
       "    <tr>\n",
       "      <th>4</th>\n",
       "      <td>7504</td>\n",
       "      <td>Home Mortgage</td>\n",
       "      <td>2340952.0</td>\n",
       "      <td>6 years</td>\n",
       "      <td>0.0</td>\n",
       "      <td>11.0</td>\n",
       "      <td>23.6</td>\n",
       "      <td>1207272.0</td>\n",
       "      <td>0.0</td>\n",
       "      <td>16.0</td>\n",
       "      <td>0.0</td>\n",
       "      <td>debt consolidation</td>\n",
       "      <td>Long Term</td>\n",
       "      <td>777634.0</td>\n",
       "      <td>425391.0</td>\n",
       "      <td>42605.0</td>\n",
       "      <td>706.0</td>\n",
       "      <td>706.0</td>\n",
       "      <td>706.0</td>\n",
       "    </tr>\n",
       "  </tbody>\n",
       "</table>\n",
       "</div>"
      ],
      "text/plain": [
       "     Id Home Ownership  Annual Income Years in current job  Tax Liens  \\\n",
       "0  7500           Rent       916199.0              4 years        0.0   \n",
       "1  7501           Rent       231838.0               1 year        0.0   \n",
       "2  7502  Home Mortgage      1152540.0              3 years        0.0   \n",
       "3  7503  Home Mortgage      1220313.0            10+ years        0.0   \n",
       "4  7504  Home Mortgage      2340952.0              6 years        0.0   \n",
       "\n",
       "   Number of Open Accounts  Years of Credit History  Maximum Open Credit  \\\n",
       "0                      9.0                     12.5             220968.0   \n",
       "1                      6.0                     32.7              55946.0   \n",
       "2                     10.0                     13.7             204600.0   \n",
       "3                     16.0                     17.0             456302.0   \n",
       "4                     11.0                     23.6            1207272.0   \n",
       "\n",
       "   Number of Credit Problems  Months since last delinquent  Bankruptcies  \\\n",
       "0                        0.0                          70.0           0.0   \n",
       "1                        0.0                           8.0           0.0   \n",
       "2                        0.0                          48.0           0.0   \n",
       "3                        0.0                          70.0           0.0   \n",
       "4                        0.0                          16.0           0.0   \n",
       "\n",
       "                Purpose        Term  Current Loan Amount  \\\n",
       "0    debt consolidation  Short Term             162470.0   \n",
       "1  educational expenses  Short Term              78298.0   \n",
       "2    debt consolidation  Short Term             200178.0   \n",
       "3    debt consolidation  Short Term             217382.0   \n",
       "4    debt consolidation   Long Term             777634.0   \n",
       "\n",
       "   Current Credit Balance  Monthly Debt  Credit Score  Credit Score_median  \\\n",
       "0                105906.0        6813.0           NaN                731.0   \n",
       "1                 46037.0        2318.0         699.0                699.0   \n",
       "2                146490.0       18729.0        7260.0               7260.0   \n",
       "3                213199.0       27559.0         739.0                739.0   \n",
       "4                425391.0       42605.0         706.0                706.0   \n",
       "\n",
       "   Credit Score_random  \n",
       "0                716.0  \n",
       "1                699.0  \n",
       "2               7260.0  \n",
       "3                739.0  \n",
       "4                706.0  "
      ]
     },
     "execution_count": 46,
     "metadata": {},
     "output_type": "execute_result"
    }
   ],
   "source": [
    "df.head()"
   ]
  },
  {
   "cell_type": "code",
   "execution_count": 47,
   "id": "912a8581",
   "metadata": {},
   "outputs": [
    {
     "data": {
      "text/plain": [
       "Id                              0\n",
       "Home Ownership                  0\n",
       "Annual Income                   0\n",
       "Tax Liens                       0\n",
       "Number of Open Accounts         0\n",
       "Years of Credit History         0\n",
       "Maximum Open Credit             0\n",
       "Number of Credit Problems       0\n",
       "Months since last delinquent    0\n",
       "Bankruptcies                    0\n",
       "Purpose                         0\n",
       "Term                            0\n",
       "Current Loan Amount             0\n",
       "Current Credit Balance          0\n",
       "Monthly Debt                    0\n",
       "Credit Score                    0\n",
       "Credit Default                  0\n",
       "Years in current job_1          0\n",
       "dtype: int64"
      ]
     },
     "execution_count": 47,
     "metadata": {},
     "output_type": "execute_result"
    }
   ],
   "source": [
    "train_data.isna().sum()"
   ]
  },
  {
   "cell_type": "code",
   "execution_count": 48,
   "id": "570ab8e2",
   "metadata": {},
   "outputs": [
    {
     "data": {
      "text/plain": [
       "Id                               0\n",
       "Home Ownership                   0\n",
       "Annual Income                    0\n",
       "Years in current job            86\n",
       "Tax Liens                        0\n",
       "Number of Open Accounts          0\n",
       "Years of Credit History          0\n",
       "Maximum Open Credit              0\n",
       "Number of Credit Problems        0\n",
       "Months since last delinquent     0\n",
       "Bankruptcies                     0\n",
       "Purpose                          0\n",
       "Term                             0\n",
       "Current Loan Amount              0\n",
       "Current Credit Balance           0\n",
       "Monthly Debt                     0\n",
       "Credit Score                     0\n",
       "dtype: int64"
      ]
     },
     "execution_count": 48,
     "metadata": {},
     "output_type": "execute_result"
    }
   ],
   "source": [
    "test_data.isna().sum()"
   ]
  },
  {
   "cell_type": "code",
   "execution_count": 49,
   "id": "77605d4e",
   "metadata": {},
   "outputs": [
    {
     "data": {
      "text/plain": [
       "array(['4 years', '1 year', '3 years', '10+ years', '6 years', '5 years',\n",
       "       '< 1 year', '2 years', '9 years', '8 years', '7 years', nan],\n",
       "      dtype=object)"
      ]
     },
     "execution_count": 49,
     "metadata": {},
     "output_type": "execute_result"
    }
   ],
   "source": [
    "test_data[\"Years in current job\"].unique()"
   ]
  },
  {
   "cell_type": "code",
   "execution_count": 50,
   "id": "270488a1",
   "metadata": {},
   "outputs": [],
   "source": [
    "test_data[\"Years in current job\"].fillna(\"0 years\",inplace=True)\n",
    "\n",
    "test_data[\"Years in current job_1\"] = test_data[\"Years in current job\"].apply(lambda x:x.split(\" \")[0])\n",
    "# test_data[\"Years in current job_1\"]\n",
    "\n",
    "\n",
    "x = test_data[\"Years in current job_1\"]\n",
    "value_smtg = []\n",
    "for s in x:\n",
    "    if s == '10+':\n",
    "        value_smtg.append(\"11\")\n",
    "    elif s == \"<\":\n",
    "        value_smtg.append(\"1\")\n",
    "    else:\n",
    "        value_smtg.append(s)\n",
    "        \n",
    "test_data[\"Years in current job_1\"] = value_smtg\n",
    "# test_data.head()\n",
    "        \n",
    "test_data.drop(\"Years in current job\",axis=1,inplace=True)"
   ]
  },
  {
   "cell_type": "code",
   "execution_count": 51,
   "id": "8fd9597b",
   "metadata": {},
   "outputs": [
    {
     "data": {
      "text/plain": [
       "Id                              0\n",
       "Home Ownership                  0\n",
       "Annual Income                   0\n",
       "Tax Liens                       0\n",
       "Number of Open Accounts         0\n",
       "Years of Credit History         0\n",
       "Maximum Open Credit             0\n",
       "Number of Credit Problems       0\n",
       "Months since last delinquent    0\n",
       "Bankruptcies                    0\n",
       "Purpose                         0\n",
       "Term                            0\n",
       "Current Loan Amount             0\n",
       "Current Credit Balance          0\n",
       "Monthly Debt                    0\n",
       "Credit Score                    0\n",
       "Years in current job_1          0\n",
       "dtype: int64"
      ]
     },
     "execution_count": 51,
     "metadata": {},
     "output_type": "execute_result"
    }
   ],
   "source": [
    "test_data.isna().sum()"
   ]
  },
  {
   "cell_type": "code",
   "execution_count": 52,
   "id": "980fb0eb",
   "metadata": {},
   "outputs": [
    {
     "data": {
      "text/plain": [
       "Id                              0\n",
       "Home Ownership                  0\n",
       "Annual Income                   0\n",
       "Tax Liens                       0\n",
       "Number of Open Accounts         0\n",
       "Years of Credit History         0\n",
       "Maximum Open Credit             0\n",
       "Number of Credit Problems       0\n",
       "Months since last delinquent    0\n",
       "Bankruptcies                    0\n",
       "Purpose                         0\n",
       "Term                            0\n",
       "Current Loan Amount             0\n",
       "Current Credit Balance          0\n",
       "Monthly Debt                    0\n",
       "Credit Score                    0\n",
       "Credit Default                  0\n",
       "Years in current job_1          0\n",
       "dtype: int64"
      ]
     },
     "execution_count": 52,
     "metadata": {},
     "output_type": "execute_result"
    }
   ],
   "source": [
    "train_data.isna().sum()"
   ]
  },
  {
   "cell_type": "code",
   "execution_count": 53,
   "id": "3dcbc097",
   "metadata": {},
   "outputs": [
    {
     "data": {
      "text/plain": [
       "Id                                int64\n",
       "Home Ownership                   object\n",
       "Annual Income                   float64\n",
       "Tax Liens                       float64\n",
       "Number of Open Accounts         float64\n",
       "Years of Credit History         float64\n",
       "Maximum Open Credit             float64\n",
       "Number of Credit Problems       float64\n",
       "Months since last delinquent    float64\n",
       "Bankruptcies                    float64\n",
       "Purpose                          object\n",
       "Term                             object\n",
       "Current Loan Amount             float64\n",
       "Current Credit Balance          float64\n",
       "Monthly Debt                    float64\n",
       "Credit Score                    float64\n",
       "Credit Default                    int64\n",
       "Years in current job_1           object\n",
       "dtype: object"
      ]
     },
     "execution_count": 53,
     "metadata": {},
     "output_type": "execute_result"
    }
   ],
   "source": [
    "train_data.dtypes"
   ]
  },
  {
   "cell_type": "code",
   "execution_count": 54,
   "id": "022003cb",
   "metadata": {},
   "outputs": [
    {
     "data": {
      "text/plain": [
       "['Home Ownership', 'Purpose', 'Term', 'Years in current job_1']"
      ]
     },
     "execution_count": 54,
     "metadata": {},
     "output_type": "execute_result"
    }
   ],
   "source": [
    "columns_object_train = [col for col in train_data.columns if train_data[col].dtypes == \"O\"]\n",
    "columns_object_train"
   ]
  },
  {
   "cell_type": "code",
   "execution_count": 55,
   "id": "cd7cf15c",
   "metadata": {},
   "outputs": [
    {
     "data": {
      "text/plain": [
       "['Home Ownership', 'Purpose', 'Term', 'Years in current job_1']"
      ]
     },
     "execution_count": 55,
     "metadata": {},
     "output_type": "execute_result"
    }
   ],
   "source": [
    "columns_object_test = [col for col in test_data.columns if test_data[col].dtypes == \"O\"]\n",
    "columns_object_test"
   ]
  },
  {
   "cell_type": "code",
   "execution_count": 56,
   "id": "d380bb31",
   "metadata": {},
   "outputs": [
    {
     "name": "stdout",
     "output_type": "stream",
     "text": [
      "Home Ownership ------ > 4\n",
      "Purpose ------ > 15\n",
      "Term ------ > 2\n",
      "Years in current job_1 ------ > 11\n"
     ]
    }
   ],
   "source": [
    "for x in columns_object_train:\n",
    "    print(f'{x} ------ > {len(train_data[x].unique())}')"
   ]
  },
  {
   "cell_type": "code",
   "execution_count": 57,
   "id": "b1f9d66f",
   "metadata": {},
   "outputs": [
    {
     "name": "stdout",
     "output_type": "stream",
     "text": [
      "Home Ownership ------ > 4\n",
      "Purpose ------ > 14\n",
      "Term ------ > 2\n",
      "Years in current job_1 ------ > 11\n"
     ]
    }
   ],
   "source": [
    "for x in columns_object_test:\n",
    "    print(f'{x} ------ > {len(test_data[x].unique())}')"
   ]
  },
  {
   "cell_type": "code",
   "execution_count": 58,
   "id": "5a407a2a",
   "metadata": {},
   "outputs": [
    {
     "data": {
      "text/html": [
       "<div>\n",
       "<style scoped>\n",
       "    .dataframe tbody tr th:only-of-type {\n",
       "        vertical-align: middle;\n",
       "    }\n",
       "\n",
       "    .dataframe tbody tr th {\n",
       "        vertical-align: top;\n",
       "    }\n",
       "\n",
       "    .dataframe thead th {\n",
       "        text-align: right;\n",
       "    }\n",
       "</style>\n",
       "<table border=\"1\" class=\"dataframe\">\n",
       "  <thead>\n",
       "    <tr style=\"text-align: right;\">\n",
       "      <th></th>\n",
       "      <th>Home Ownership</th>\n",
       "      <th>Purpose</th>\n",
       "      <th>Term</th>\n",
       "      <th>Years in current job_1</th>\n",
       "    </tr>\n",
       "  </thead>\n",
       "  <tbody>\n",
       "    <tr>\n",
       "      <th>0</th>\n",
       "      <td>Own Home</td>\n",
       "      <td>debt consolidation</td>\n",
       "      <td>Short Term</td>\n",
       "      <td>0</td>\n",
       "    </tr>\n",
       "    <tr>\n",
       "      <th>1</th>\n",
       "      <td>Own Home</td>\n",
       "      <td>debt consolidation</td>\n",
       "      <td>Long Term</td>\n",
       "      <td>11</td>\n",
       "    </tr>\n",
       "    <tr>\n",
       "      <th>2</th>\n",
       "      <td>Home Mortgage</td>\n",
       "      <td>debt consolidation</td>\n",
       "      <td>Short Term</td>\n",
       "      <td>8</td>\n",
       "    </tr>\n",
       "    <tr>\n",
       "      <th>3</th>\n",
       "      <td>Own Home</td>\n",
       "      <td>debt consolidation</td>\n",
       "      <td>Short Term</td>\n",
       "      <td>6</td>\n",
       "    </tr>\n",
       "    <tr>\n",
       "      <th>4</th>\n",
       "      <td>Rent</td>\n",
       "      <td>debt consolidation</td>\n",
       "      <td>Short Term</td>\n",
       "      <td>8</td>\n",
       "    </tr>\n",
       "    <tr>\n",
       "      <th>...</th>\n",
       "      <td>...</td>\n",
       "      <td>...</td>\n",
       "      <td>...</td>\n",
       "      <td>...</td>\n",
       "    </tr>\n",
       "    <tr>\n",
       "      <th>7495</th>\n",
       "      <td>Rent</td>\n",
       "      <td>other</td>\n",
       "      <td>Short Term</td>\n",
       "      <td>1</td>\n",
       "    </tr>\n",
       "    <tr>\n",
       "      <th>7496</th>\n",
       "      <td>Home Mortgage</td>\n",
       "      <td>debt consolidation</td>\n",
       "      <td>Long Term</td>\n",
       "      <td>1</td>\n",
       "    </tr>\n",
       "    <tr>\n",
       "      <th>7497</th>\n",
       "      <td>Rent</td>\n",
       "      <td>buy a car</td>\n",
       "      <td>Short Term</td>\n",
       "      <td>6</td>\n",
       "    </tr>\n",
       "    <tr>\n",
       "      <th>7498</th>\n",
       "      <td>Home Mortgage</td>\n",
       "      <td>debt consolidation</td>\n",
       "      <td>Short Term</td>\n",
       "      <td>0</td>\n",
       "    </tr>\n",
       "    <tr>\n",
       "      <th>7499</th>\n",
       "      <td>Rent</td>\n",
       "      <td>debt consolidation</td>\n",
       "      <td>Short Term</td>\n",
       "      <td>4</td>\n",
       "    </tr>\n",
       "  </tbody>\n",
       "</table>\n",
       "<p>7500 rows × 4 columns</p>\n",
       "</div>"
      ],
      "text/plain": [
       "     Home Ownership             Purpose        Term Years in current job_1\n",
       "0          Own Home  debt consolidation  Short Term                      0\n",
       "1          Own Home  debt consolidation   Long Term                     11\n",
       "2     Home Mortgage  debt consolidation  Short Term                      8\n",
       "3          Own Home  debt consolidation  Short Term                      6\n",
       "4              Rent  debt consolidation  Short Term                      8\n",
       "...             ...                 ...         ...                    ...\n",
       "7495           Rent               other  Short Term                      1\n",
       "7496  Home Mortgage  debt consolidation   Long Term                      1\n",
       "7497           Rent           buy a car  Short Term                      6\n",
       "7498  Home Mortgage  debt consolidation  Short Term                      0\n",
       "7499           Rent  debt consolidation  Short Term                      4\n",
       "\n",
       "[7500 rows x 4 columns]"
      ]
     },
     "execution_count": 58,
     "metadata": {},
     "output_type": "execute_result"
    }
   ],
   "source": [
    "train_data[columns_object_train]"
   ]
  },
  {
   "cell_type": "code",
   "execution_count": 59,
   "id": "625bca41",
   "metadata": {},
   "outputs": [],
   "source": [
    "train_data[\"Years in current job_1\"] = pd.to_numeric(train_data[\"Years in current job_1\"])\n",
    "test_data[\"Years in current job_1\"] = pd.to_numeric(test_data[\"Years in current job_1\"])"
   ]
  },
  {
   "cell_type": "code",
   "execution_count": 60,
   "id": "3eb67349",
   "metadata": {},
   "outputs": [
    {
     "data": {
      "text/plain": [
       "array(['Short Term', 'Long Term'], dtype=object)"
      ]
     },
     "execution_count": 60,
     "metadata": {},
     "output_type": "execute_result"
    }
   ],
   "source": [
    "train_data[\"Term\"].unique()"
   ]
  },
  {
   "cell_type": "code",
   "execution_count": 61,
   "id": "c8e0905f",
   "metadata": {},
   "outputs": [],
   "source": [
    "# Term\n",
    "val_team = {'Short Term':0,'Long Term':1}\n",
    "train_data[\"Term\"] = train_data[\"Term\"].map(val_team)\n",
    "test_data[\"Term\"] = test_data[\"Term\"].map(val_team)"
   ]
  },
  {
   "cell_type": "code",
   "execution_count": 62,
   "id": "36cc3484",
   "metadata": {},
   "outputs": [
    {
     "data": {
      "text/plain": [
       "['Home Ownership', 'Purpose']"
      ]
     },
     "execution_count": 62,
     "metadata": {},
     "output_type": "execute_result"
    }
   ],
   "source": [
    "columns_object_train = [col for col in train_data.columns if train_data[col].dtypes == \"O\"]\n",
    "columns_object_train"
   ]
  },
  {
   "cell_type": "code",
   "execution_count": 63,
   "id": "b7301e0a",
   "metadata": {},
   "outputs": [
    {
     "data": {
      "text/plain": [
       "array(['Own Home', 'Home Mortgage', 'Rent', 'Have Mortgage'], dtype=object)"
      ]
     },
     "execution_count": 63,
     "metadata": {},
     "output_type": "execute_result"
    }
   ],
   "source": [
    "train_data[\"Home Ownership\"].unique()"
   ]
  },
  {
   "cell_type": "code",
   "execution_count": 64,
   "id": "04d7bc64",
   "metadata": {},
   "outputs": [],
   "source": [
    "val_home = {'Own Home':0, 'Home Mortgage':1, 'Rent':2, 'Have Mortgage':3}\n",
    "train_data[\"Home Ownership\"] = train_data[\"Home Ownership\"].map(val_home)\n",
    "test_data[\"Home Ownership\"] = test_data[\"Home Ownership\"].map(val_home)"
   ]
  },
  {
   "cell_type": "code",
   "execution_count": 65,
   "id": "cebc3f2e",
   "metadata": {},
   "outputs": [
    {
     "data": {
      "text/plain": [
       "['Purpose']"
      ]
     },
     "execution_count": 65,
     "metadata": {},
     "output_type": "execute_result"
    }
   ],
   "source": [
    "columns_object_train = [col for col in train_data.columns if train_data[col].dtypes == \"O\"]\n",
    "columns_object_train"
   ]
  },
  {
   "cell_type": "code",
   "execution_count": 66,
   "id": "bf90e7ac",
   "metadata": {},
   "outputs": [
    {
     "data": {
      "text/plain": [
       "array(['debt consolidation', 'other', 'home improvements', 'take a trip',\n",
       "       'buy a car', 'small business', 'business loan', 'wedding',\n",
       "       'educational expenses', 'buy house', 'medical bills', 'moving',\n",
       "       'major purchase', 'vacation', 'renewable energy'], dtype=object)"
      ]
     },
     "execution_count": 66,
     "metadata": {},
     "output_type": "execute_result"
    }
   ],
   "source": [
    "s = train_data[\"Purpose\"].unique()\n",
    "s"
   ]
  },
  {
   "cell_type": "code",
   "execution_count": 67,
   "id": "a1c2ef17",
   "metadata": {},
   "outputs": [],
   "source": [
    "train_data.drop(\"Purpose\",axis=1,inplace=True)\n",
    "test_data.drop(\"Purpose\",axis=1,inplace=True)"
   ]
  },
  {
   "cell_type": "code",
   "execution_count": 68,
   "id": "7cba6f3c",
   "metadata": {},
   "outputs": [
    {
     "data": {
      "text/html": [
       "<div>\n",
       "<style scoped>\n",
       "    .dataframe tbody tr th:only-of-type {\n",
       "        vertical-align: middle;\n",
       "    }\n",
       "\n",
       "    .dataframe tbody tr th {\n",
       "        vertical-align: top;\n",
       "    }\n",
       "\n",
       "    .dataframe thead th {\n",
       "        text-align: right;\n",
       "    }\n",
       "</style>\n",
       "<table border=\"1\" class=\"dataframe\">\n",
       "  <thead>\n",
       "    <tr style=\"text-align: right;\">\n",
       "      <th></th>\n",
       "      <th>Id</th>\n",
       "      <th>Home Ownership</th>\n",
       "      <th>Annual Income</th>\n",
       "      <th>Tax Liens</th>\n",
       "      <th>Number of Open Accounts</th>\n",
       "      <th>Years of Credit History</th>\n",
       "      <th>Maximum Open Credit</th>\n",
       "      <th>Number of Credit Problems</th>\n",
       "      <th>Months since last delinquent</th>\n",
       "      <th>Bankruptcies</th>\n",
       "      <th>Term</th>\n",
       "      <th>Current Loan Amount</th>\n",
       "      <th>Current Credit Balance</th>\n",
       "      <th>Monthly Debt</th>\n",
       "      <th>Credit Score</th>\n",
       "      <th>Credit Default</th>\n",
       "      <th>Years in current job_1</th>\n",
       "    </tr>\n",
       "  </thead>\n",
       "  <tbody>\n",
       "    <tr>\n",
       "      <th>0</th>\n",
       "      <td>0</td>\n",
       "      <td>0</td>\n",
       "      <td>482087.0</td>\n",
       "      <td>0.0</td>\n",
       "      <td>11.0</td>\n",
       "      <td>26.3</td>\n",
       "      <td>685960.0</td>\n",
       "      <td>1.0</td>\n",
       "      <td>37.0</td>\n",
       "      <td>1.0</td>\n",
       "      <td>0</td>\n",
       "      <td>99999999.0</td>\n",
       "      <td>47386.0</td>\n",
       "      <td>7914.0</td>\n",
       "      <td>749.0</td>\n",
       "      <td>0</td>\n",
       "      <td>0</td>\n",
       "    </tr>\n",
       "    <tr>\n",
       "      <th>1</th>\n",
       "      <td>1</td>\n",
       "      <td>0</td>\n",
       "      <td>1025487.0</td>\n",
       "      <td>0.0</td>\n",
       "      <td>15.0</td>\n",
       "      <td>15.3</td>\n",
       "      <td>1181730.0</td>\n",
       "      <td>0.0</td>\n",
       "      <td>62.0</td>\n",
       "      <td>0.0</td>\n",
       "      <td>1</td>\n",
       "      <td>264968.0</td>\n",
       "      <td>394972.0</td>\n",
       "      <td>18373.0</td>\n",
       "      <td>737.0</td>\n",
       "      <td>1</td>\n",
       "      <td>11</td>\n",
       "    </tr>\n",
       "    <tr>\n",
       "      <th>2</th>\n",
       "      <td>2</td>\n",
       "      <td>1</td>\n",
       "      <td>751412.0</td>\n",
       "      <td>0.0</td>\n",
       "      <td>11.0</td>\n",
       "      <td>35.0</td>\n",
       "      <td>1182434.0</td>\n",
       "      <td>0.0</td>\n",
       "      <td>10.0</td>\n",
       "      <td>0.0</td>\n",
       "      <td>0</td>\n",
       "      <td>99999999.0</td>\n",
       "      <td>308389.0</td>\n",
       "      <td>13651.0</td>\n",
       "      <td>742.0</td>\n",
       "      <td>0</td>\n",
       "      <td>8</td>\n",
       "    </tr>\n",
       "    <tr>\n",
       "      <th>3</th>\n",
       "      <td>3</td>\n",
       "      <td>0</td>\n",
       "      <td>805068.0</td>\n",
       "      <td>0.0</td>\n",
       "      <td>8.0</td>\n",
       "      <td>22.5</td>\n",
       "      <td>147400.0</td>\n",
       "      <td>1.0</td>\n",
       "      <td>55.0</td>\n",
       "      <td>1.0</td>\n",
       "      <td>0</td>\n",
       "      <td>121396.0</td>\n",
       "      <td>95855.0</td>\n",
       "      <td>11338.0</td>\n",
       "      <td>694.0</td>\n",
       "      <td>0</td>\n",
       "      <td>6</td>\n",
       "    </tr>\n",
       "    <tr>\n",
       "      <th>4</th>\n",
       "      <td>4</td>\n",
       "      <td>2</td>\n",
       "      <td>776264.0</td>\n",
       "      <td>0.0</td>\n",
       "      <td>13.0</td>\n",
       "      <td>13.6</td>\n",
       "      <td>385836.0</td>\n",
       "      <td>1.0</td>\n",
       "      <td>33.0</td>\n",
       "      <td>0.0</td>\n",
       "      <td>0</td>\n",
       "      <td>125840.0</td>\n",
       "      <td>93309.0</td>\n",
       "      <td>7180.0</td>\n",
       "      <td>719.0</td>\n",
       "      <td>0</td>\n",
       "      <td>8</td>\n",
       "    </tr>\n",
       "  </tbody>\n",
       "</table>\n",
       "</div>"
      ],
      "text/plain": [
       "   Id  Home Ownership  Annual Income  Tax Liens  Number of Open Accounts  \\\n",
       "0   0               0       482087.0        0.0                     11.0   \n",
       "1   1               0      1025487.0        0.0                     15.0   \n",
       "2   2               1       751412.0        0.0                     11.0   \n",
       "3   3               0       805068.0        0.0                      8.0   \n",
       "4   4               2       776264.0        0.0                     13.0   \n",
       "\n",
       "   Years of Credit History  Maximum Open Credit  Number of Credit Problems  \\\n",
       "0                     26.3             685960.0                        1.0   \n",
       "1                     15.3            1181730.0                        0.0   \n",
       "2                     35.0            1182434.0                        0.0   \n",
       "3                     22.5             147400.0                        1.0   \n",
       "4                     13.6             385836.0                        1.0   \n",
       "\n",
       "   Months since last delinquent  Bankruptcies  Term  Current Loan Amount  \\\n",
       "0                          37.0           1.0     0           99999999.0   \n",
       "1                          62.0           0.0     1             264968.0   \n",
       "2                          10.0           0.0     0           99999999.0   \n",
       "3                          55.0           1.0     0             121396.0   \n",
       "4                          33.0           0.0     0             125840.0   \n",
       "\n",
       "   Current Credit Balance  Monthly Debt  Credit Score  Credit Default  \\\n",
       "0                 47386.0        7914.0         749.0               0   \n",
       "1                394972.0       18373.0         737.0               1   \n",
       "2                308389.0       13651.0         742.0               0   \n",
       "3                 95855.0       11338.0         694.0               0   \n",
       "4                 93309.0        7180.0         719.0               0   \n",
       "\n",
       "   Years in current job_1  \n",
       "0                       0  \n",
       "1                      11  \n",
       "2                       8  \n",
       "3                       6  \n",
       "4                       8  "
      ]
     },
     "execution_count": 68,
     "metadata": {},
     "output_type": "execute_result"
    }
   ],
   "source": [
    "train_data.head()"
   ]
  },
  {
   "cell_type": "code",
   "execution_count": 69,
   "id": "7c3b28d4",
   "metadata": {},
   "outputs": [
    {
     "data": {
      "text/html": [
       "<div>\n",
       "<style scoped>\n",
       "    .dataframe tbody tr th:only-of-type {\n",
       "        vertical-align: middle;\n",
       "    }\n",
       "\n",
       "    .dataframe tbody tr th {\n",
       "        vertical-align: top;\n",
       "    }\n",
       "\n",
       "    .dataframe thead th {\n",
       "        text-align: right;\n",
       "    }\n",
       "</style>\n",
       "<table border=\"1\" class=\"dataframe\">\n",
       "  <thead>\n",
       "    <tr style=\"text-align: right;\">\n",
       "      <th></th>\n",
       "      <th>Id</th>\n",
       "      <th>Home Ownership</th>\n",
       "      <th>Annual Income</th>\n",
       "      <th>Tax Liens</th>\n",
       "      <th>Number of Open Accounts</th>\n",
       "      <th>Years of Credit History</th>\n",
       "      <th>Maximum Open Credit</th>\n",
       "      <th>Number of Credit Problems</th>\n",
       "      <th>Months since last delinquent</th>\n",
       "      <th>Bankruptcies</th>\n",
       "      <th>Term</th>\n",
       "      <th>Current Loan Amount</th>\n",
       "      <th>Current Credit Balance</th>\n",
       "      <th>Monthly Debt</th>\n",
       "      <th>Credit Score</th>\n",
       "      <th>Years in current job_1</th>\n",
       "    </tr>\n",
       "  </thead>\n",
       "  <tbody>\n",
       "    <tr>\n",
       "      <th>0</th>\n",
       "      <td>7500</td>\n",
       "      <td>2</td>\n",
       "      <td>916199.0</td>\n",
       "      <td>0.0</td>\n",
       "      <td>9.0</td>\n",
       "      <td>12.5</td>\n",
       "      <td>220968.0</td>\n",
       "      <td>0.0</td>\n",
       "      <td>70.0</td>\n",
       "      <td>0.0</td>\n",
       "      <td>0</td>\n",
       "      <td>162470.0</td>\n",
       "      <td>105906.0</td>\n",
       "      <td>6813.0</td>\n",
       "      <td>716.0</td>\n",
       "      <td>4</td>\n",
       "    </tr>\n",
       "    <tr>\n",
       "      <th>1</th>\n",
       "      <td>7501</td>\n",
       "      <td>2</td>\n",
       "      <td>231838.0</td>\n",
       "      <td>0.0</td>\n",
       "      <td>6.0</td>\n",
       "      <td>32.7</td>\n",
       "      <td>55946.0</td>\n",
       "      <td>0.0</td>\n",
       "      <td>8.0</td>\n",
       "      <td>0.0</td>\n",
       "      <td>0</td>\n",
       "      <td>78298.0</td>\n",
       "      <td>46037.0</td>\n",
       "      <td>2318.0</td>\n",
       "      <td>699.0</td>\n",
       "      <td>1</td>\n",
       "    </tr>\n",
       "    <tr>\n",
       "      <th>2</th>\n",
       "      <td>7502</td>\n",
       "      <td>1</td>\n",
       "      <td>1152540.0</td>\n",
       "      <td>0.0</td>\n",
       "      <td>10.0</td>\n",
       "      <td>13.7</td>\n",
       "      <td>204600.0</td>\n",
       "      <td>0.0</td>\n",
       "      <td>48.0</td>\n",
       "      <td>0.0</td>\n",
       "      <td>0</td>\n",
       "      <td>200178.0</td>\n",
       "      <td>146490.0</td>\n",
       "      <td>18729.0</td>\n",
       "      <td>7260.0</td>\n",
       "      <td>3</td>\n",
       "    </tr>\n",
       "    <tr>\n",
       "      <th>3</th>\n",
       "      <td>7503</td>\n",
       "      <td>1</td>\n",
       "      <td>1220313.0</td>\n",
       "      <td>0.0</td>\n",
       "      <td>16.0</td>\n",
       "      <td>17.0</td>\n",
       "      <td>456302.0</td>\n",
       "      <td>0.0</td>\n",
       "      <td>70.0</td>\n",
       "      <td>0.0</td>\n",
       "      <td>0</td>\n",
       "      <td>217382.0</td>\n",
       "      <td>213199.0</td>\n",
       "      <td>27559.0</td>\n",
       "      <td>739.0</td>\n",
       "      <td>11</td>\n",
       "    </tr>\n",
       "    <tr>\n",
       "      <th>4</th>\n",
       "      <td>7504</td>\n",
       "      <td>1</td>\n",
       "      <td>2340952.0</td>\n",
       "      <td>0.0</td>\n",
       "      <td>11.0</td>\n",
       "      <td>23.6</td>\n",
       "      <td>1207272.0</td>\n",
       "      <td>0.0</td>\n",
       "      <td>16.0</td>\n",
       "      <td>0.0</td>\n",
       "      <td>1</td>\n",
       "      <td>777634.0</td>\n",
       "      <td>425391.0</td>\n",
       "      <td>42605.0</td>\n",
       "      <td>706.0</td>\n",
       "      <td>6</td>\n",
       "    </tr>\n",
       "  </tbody>\n",
       "</table>\n",
       "</div>"
      ],
      "text/plain": [
       "     Id  Home Ownership  Annual Income  Tax Liens  Number of Open Accounts  \\\n",
       "0  7500               2       916199.0        0.0                      9.0   \n",
       "1  7501               2       231838.0        0.0                      6.0   \n",
       "2  7502               1      1152540.0        0.0                     10.0   \n",
       "3  7503               1      1220313.0        0.0                     16.0   \n",
       "4  7504               1      2340952.0        0.0                     11.0   \n",
       "\n",
       "   Years of Credit History  Maximum Open Credit  Number of Credit Problems  \\\n",
       "0                     12.5             220968.0                        0.0   \n",
       "1                     32.7              55946.0                        0.0   \n",
       "2                     13.7             204600.0                        0.0   \n",
       "3                     17.0             456302.0                        0.0   \n",
       "4                     23.6            1207272.0                        0.0   \n",
       "\n",
       "   Months since last delinquent  Bankruptcies  Term  Current Loan Amount  \\\n",
       "0                          70.0           0.0     0             162470.0   \n",
       "1                           8.0           0.0     0              78298.0   \n",
       "2                          48.0           0.0     0             200178.0   \n",
       "3                          70.0           0.0     0             217382.0   \n",
       "4                          16.0           0.0     1             777634.0   \n",
       "\n",
       "   Current Credit Balance  Monthly Debt  Credit Score  Years in current job_1  \n",
       "0                105906.0        6813.0         716.0                       4  \n",
       "1                 46037.0        2318.0         699.0                       1  \n",
       "2                146490.0       18729.0        7260.0                       3  \n",
       "3                213199.0       27559.0         739.0                      11  \n",
       "4                425391.0       42605.0         706.0                       6  "
      ]
     },
     "execution_count": 69,
     "metadata": {},
     "output_type": "execute_result"
    }
   ],
   "source": [
    "test_data.head()"
   ]
  },
  {
   "cell_type": "code",
   "execution_count": 70,
   "id": "6c51e26d",
   "metadata": {},
   "outputs": [
    {
     "data": {
      "text/plain": [
       "Id                                int64\n",
       "Home Ownership                    int64\n",
       "Annual Income                   float64\n",
       "Tax Liens                       float64\n",
       "Number of Open Accounts         float64\n",
       "Years of Credit History         float64\n",
       "Maximum Open Credit             float64\n",
       "Number of Credit Problems       float64\n",
       "Months since last delinquent    float64\n",
       "Bankruptcies                    float64\n",
       "Term                              int64\n",
       "Current Loan Amount             float64\n",
       "Current Credit Balance          float64\n",
       "Monthly Debt                    float64\n",
       "Credit Score                    float64\n",
       "Years in current job_1            int64\n",
       "dtype: object"
      ]
     },
     "execution_count": 70,
     "metadata": {},
     "output_type": "execute_result"
    }
   ],
   "source": [
    "test_data.dtypes"
   ]
  },
  {
   "cell_type": "code",
   "execution_count": 71,
   "id": "2e4ec60f",
   "metadata": {},
   "outputs": [
    {
     "data": {
      "text/plain": [
       "Id                                int64\n",
       "Home Ownership                    int64\n",
       "Annual Income                   float64\n",
       "Tax Liens                       float64\n",
       "Number of Open Accounts         float64\n",
       "Years of Credit History         float64\n",
       "Maximum Open Credit             float64\n",
       "Number of Credit Problems       float64\n",
       "Months since last delinquent    float64\n",
       "Bankruptcies                    float64\n",
       "Term                              int64\n",
       "Current Loan Amount             float64\n",
       "Current Credit Balance          float64\n",
       "Monthly Debt                    float64\n",
       "Credit Score                    float64\n",
       "Credit Default                    int64\n",
       "Years in current job_1            int64\n",
       "dtype: object"
      ]
     },
     "execution_count": 71,
     "metadata": {},
     "output_type": "execute_result"
    }
   ],
   "source": [
    "train_data.dtypes"
   ]
  },
  {
   "cell_type": "code",
   "execution_count": 72,
   "id": "3589d37f",
   "metadata": {},
   "outputs": [],
   "source": [
    "train_data.drop(\"Id\",axis=1,inplace=True)"
   ]
  },
  {
   "cell_type": "code",
   "execution_count": 73,
   "id": "455aad53",
   "metadata": {},
   "outputs": [
    {
     "data": {
      "text/html": [
       "<div>\n",
       "<style scoped>\n",
       "    .dataframe tbody tr th:only-of-type {\n",
       "        vertical-align: middle;\n",
       "    }\n",
       "\n",
       "    .dataframe tbody tr th {\n",
       "        vertical-align: top;\n",
       "    }\n",
       "\n",
       "    .dataframe thead th {\n",
       "        text-align: right;\n",
       "    }\n",
       "</style>\n",
       "<table border=\"1\" class=\"dataframe\">\n",
       "  <thead>\n",
       "    <tr style=\"text-align: right;\">\n",
       "      <th></th>\n",
       "      <th>Home Ownership</th>\n",
       "      <th>Annual Income</th>\n",
       "      <th>Tax Liens</th>\n",
       "      <th>Number of Open Accounts</th>\n",
       "      <th>Years of Credit History</th>\n",
       "      <th>Maximum Open Credit</th>\n",
       "      <th>Number of Credit Problems</th>\n",
       "      <th>Months since last delinquent</th>\n",
       "      <th>Bankruptcies</th>\n",
       "      <th>Term</th>\n",
       "      <th>Current Loan Amount</th>\n",
       "      <th>Current Credit Balance</th>\n",
       "      <th>Monthly Debt</th>\n",
       "      <th>Credit Score</th>\n",
       "      <th>Credit Default</th>\n",
       "      <th>Years in current job_1</th>\n",
       "    </tr>\n",
       "  </thead>\n",
       "  <tbody>\n",
       "    <tr>\n",
       "      <th>Home Ownership</th>\n",
       "      <td>1.000000</td>\n",
       "      <td>-0.089168</td>\n",
       "      <td>0.007924</td>\n",
       "      <td>-0.090543</td>\n",
       "      <td>-0.162704</td>\n",
       "      <td>-0.006241</td>\n",
       "      <td>0.006428</td>\n",
       "      <td>0.025323</td>\n",
       "      <td>0.011038</td>\n",
       "      <td>-0.085001</td>\n",
       "      <td>-0.016737</td>\n",
       "      <td>-0.142266</td>\n",
       "      <td>-0.129947</td>\n",
       "      <td>0.005003</td>\n",
       "      <td>0.041095</td>\n",
       "      <td>-0.126375</td>\n",
       "    </tr>\n",
       "    <tr>\n",
       "      <th>Annual Income</th>\n",
       "      <td>-0.089168</td>\n",
       "      <td>1.000000</td>\n",
       "      <td>0.046994</td>\n",
       "      <td>0.151066</td>\n",
       "      <td>0.145838</td>\n",
       "      <td>0.013965</td>\n",
       "      <td>-0.017830</td>\n",
       "      <td>-0.047130</td>\n",
       "      <td>-0.057181</td>\n",
       "      <td>0.078186</td>\n",
       "      <td>0.026267</td>\n",
       "      <td>0.312061</td>\n",
       "      <td>0.465153</td>\n",
       "      <td>-0.039802</td>\n",
       "      <td>-0.075956</td>\n",
       "      <td>0.106898</td>\n",
       "    </tr>\n",
       "    <tr>\n",
       "      <th>Tax Liens</th>\n",
       "      <td>0.007924</td>\n",
       "      <td>0.046994</td>\n",
       "      <td>1.000000</td>\n",
       "      <td>-0.005360</td>\n",
       "      <td>0.009109</td>\n",
       "      <td>-0.002410</td>\n",
       "      <td>0.595339</td>\n",
       "      <td>0.024418</td>\n",
       "      <td>0.057423</td>\n",
       "      <td>0.004953</td>\n",
       "      <td>-0.007835</td>\n",
       "      <td>-0.010195</td>\n",
       "      <td>0.027211</td>\n",
       "      <td>0.012275</td>\n",
       "      <td>0.024368</td>\n",
       "      <td>0.003723</td>\n",
       "    </tr>\n",
       "    <tr>\n",
       "      <th>Number of Open Accounts</th>\n",
       "      <td>-0.090543</td>\n",
       "      <td>0.151066</td>\n",
       "      <td>-0.005360</td>\n",
       "      <td>1.000000</td>\n",
       "      <td>0.144819</td>\n",
       "      <td>0.023897</td>\n",
       "      <td>-0.017813</td>\n",
       "      <td>0.009494</td>\n",
       "      <td>-0.018859</td>\n",
       "      <td>0.071316</td>\n",
       "      <td>0.001346</td>\n",
       "      <td>0.267325</td>\n",
       "      <td>0.413904</td>\n",
       "      <td>0.017579</td>\n",
       "      <td>0.028884</td>\n",
       "      <td>0.062628</td>\n",
       "    </tr>\n",
       "    <tr>\n",
       "      <th>Years of Credit History</th>\n",
       "      <td>-0.162704</td>\n",
       "      <td>0.145838</td>\n",
       "      <td>0.009109</td>\n",
       "      <td>0.144819</td>\n",
       "      <td>1.000000</td>\n",
       "      <td>0.029247</td>\n",
       "      <td>0.071259</td>\n",
       "      <td>0.002572</td>\n",
       "      <td>0.085592</td>\n",
       "      <td>0.044243</td>\n",
       "      <td>0.010623</td>\n",
       "      <td>0.217856</td>\n",
       "      <td>0.191978</td>\n",
       "      <td>-0.018132</td>\n",
       "      <td>-0.020567</td>\n",
       "      <td>0.159126</td>\n",
       "    </tr>\n",
       "    <tr>\n",
       "      <th>Maximum Open Credit</th>\n",
       "      <td>-0.006241</td>\n",
       "      <td>0.013965</td>\n",
       "      <td>-0.002410</td>\n",
       "      <td>0.023897</td>\n",
       "      <td>0.029247</td>\n",
       "      <td>1.000000</td>\n",
       "      <td>-0.004750</td>\n",
       "      <td>-0.005093</td>\n",
       "      <td>-0.011632</td>\n",
       "      <td>-0.006023</td>\n",
       "      <td>-0.002334</td>\n",
       "      <td>0.088090</td>\n",
       "      <td>0.010197</td>\n",
       "      <td>-0.005727</td>\n",
       "      <td>-0.014275</td>\n",
       "      <td>0.004405</td>\n",
       "    </tr>\n",
       "    <tr>\n",
       "      <th>Number of Credit Problems</th>\n",
       "      <td>0.006428</td>\n",
       "      <td>-0.017830</td>\n",
       "      <td>0.595339</td>\n",
       "      <td>-0.017813</td>\n",
       "      <td>0.071259</td>\n",
       "      <td>-0.004750</td>\n",
       "      <td>1.000000</td>\n",
       "      <td>0.075703</td>\n",
       "      <td>0.730808</td>\n",
       "      <td>-0.020433</td>\n",
       "      <td>-0.008596</td>\n",
       "      <td>-0.124137</td>\n",
       "      <td>-0.042252</td>\n",
       "      <td>-0.008620</td>\n",
       "      <td>0.020088</td>\n",
       "      <td>0.013963</td>\n",
       "    </tr>\n",
       "    <tr>\n",
       "      <th>Months since last delinquent</th>\n",
       "      <td>0.025323</td>\n",
       "      <td>-0.047130</td>\n",
       "      <td>0.024418</td>\n",
       "      <td>0.009494</td>\n",
       "      <td>0.002572</td>\n",
       "      <td>-0.005093</td>\n",
       "      <td>0.075703</td>\n",
       "      <td>1.000000</td>\n",
       "      <td>0.080344</td>\n",
       "      <td>0.010698</td>\n",
       "      <td>-0.002531</td>\n",
       "      <td>-0.009600</td>\n",
       "      <td>-0.013760</td>\n",
       "      <td>-0.020357</td>\n",
       "      <td>-0.008102</td>\n",
       "      <td>-0.025810</td>\n",
       "    </tr>\n",
       "    <tr>\n",
       "      <th>Bankruptcies</th>\n",
       "      <td>0.011038</td>\n",
       "      <td>-0.057181</td>\n",
       "      <td>0.057423</td>\n",
       "      <td>-0.018859</td>\n",
       "      <td>0.085592</td>\n",
       "      <td>-0.011632</td>\n",
       "      <td>0.730808</td>\n",
       "      <td>0.080344</td>\n",
       "      <td>1.000000</td>\n",
       "      <td>-0.030981</td>\n",
       "      <td>-0.006169</td>\n",
       "      <td>-0.142553</td>\n",
       "      <td>-0.078847</td>\n",
       "      <td>-0.013173</td>\n",
       "      <td>0.001640</td>\n",
       "      <td>0.023431</td>\n",
       "    </tr>\n",
       "    <tr>\n",
       "      <th>Term</th>\n",
       "      <td>-0.085001</td>\n",
       "      <td>0.078186</td>\n",
       "      <td>0.004953</td>\n",
       "      <td>0.071316</td>\n",
       "      <td>0.044243</td>\n",
       "      <td>-0.006023</td>\n",
       "      <td>-0.020433</td>\n",
       "      <td>0.010698</td>\n",
       "      <td>-0.030981</td>\n",
       "      <td>1.000000</td>\n",
       "      <td>-0.075222</td>\n",
       "      <td>0.108561</td>\n",
       "      <td>0.144021</td>\n",
       "      <td>0.029335</td>\n",
       "      <td>0.181487</td>\n",
       "      <td>0.084138</td>\n",
       "    </tr>\n",
       "    <tr>\n",
       "      <th>Current Loan Amount</th>\n",
       "      <td>-0.016737</td>\n",
       "      <td>0.026267</td>\n",
       "      <td>-0.007835</td>\n",
       "      <td>0.001346</td>\n",
       "      <td>0.010623</td>\n",
       "      <td>-0.002334</td>\n",
       "      <td>-0.008596</td>\n",
       "      <td>-0.002531</td>\n",
       "      <td>-0.006169</td>\n",
       "      <td>-0.075222</td>\n",
       "      <td>1.000000</td>\n",
       "      <td>0.016672</td>\n",
       "      <td>-0.009382</td>\n",
       "      <td>-0.094127</td>\n",
       "      <td>-0.226522</td>\n",
       "      <td>-0.000923</td>\n",
       "    </tr>\n",
       "    <tr>\n",
       "      <th>Current Credit Balance</th>\n",
       "      <td>-0.142266</td>\n",
       "      <td>0.312061</td>\n",
       "      <td>-0.010195</td>\n",
       "      <td>0.267325</td>\n",
       "      <td>0.217856</td>\n",
       "      <td>0.088090</td>\n",
       "      <td>-0.124137</td>\n",
       "      <td>-0.009600</td>\n",
       "      <td>-0.142553</td>\n",
       "      <td>0.108561</td>\n",
       "      <td>0.016672</td>\n",
       "      <td>1.000000</td>\n",
       "      <td>0.504964</td>\n",
       "      <td>-0.004895</td>\n",
       "      <td>-0.019522</td>\n",
       "      <td>0.111087</td>\n",
       "    </tr>\n",
       "    <tr>\n",
       "      <th>Monthly Debt</th>\n",
       "      <td>-0.129947</td>\n",
       "      <td>0.465153</td>\n",
       "      <td>0.027211</td>\n",
       "      <td>0.413904</td>\n",
       "      <td>0.191978</td>\n",
       "      <td>0.010197</td>\n",
       "      <td>-0.042252</td>\n",
       "      <td>-0.013760</td>\n",
       "      <td>-0.078847</td>\n",
       "      <td>0.144021</td>\n",
       "      <td>-0.009382</td>\n",
       "      <td>0.504964</td>\n",
       "      <td>1.000000</td>\n",
       "      <td>0.001430</td>\n",
       "      <td>0.018480</td>\n",
       "      <td>0.144712</td>\n",
       "    </tr>\n",
       "    <tr>\n",
       "      <th>Credit Score</th>\n",
       "      <td>0.005003</td>\n",
       "      <td>-0.039802</td>\n",
       "      <td>0.012275</td>\n",
       "      <td>0.017579</td>\n",
       "      <td>-0.018132</td>\n",
       "      <td>-0.005727</td>\n",
       "      <td>-0.008620</td>\n",
       "      <td>-0.020357</td>\n",
       "      <td>-0.013173</td>\n",
       "      <td>0.029335</td>\n",
       "      <td>-0.094127</td>\n",
       "      <td>-0.004895</td>\n",
       "      <td>0.001430</td>\n",
       "      <td>1.000000</td>\n",
       "      <td>0.341416</td>\n",
       "      <td>-0.004393</td>\n",
       "    </tr>\n",
       "    <tr>\n",
       "      <th>Credit Default</th>\n",
       "      <td>0.041095</td>\n",
       "      <td>-0.075956</td>\n",
       "      <td>0.024368</td>\n",
       "      <td>0.028884</td>\n",
       "      <td>-0.020567</td>\n",
       "      <td>-0.014275</td>\n",
       "      <td>0.020088</td>\n",
       "      <td>-0.008102</td>\n",
       "      <td>0.001640</td>\n",
       "      <td>0.181487</td>\n",
       "      <td>-0.226522</td>\n",
       "      <td>-0.019522</td>\n",
       "      <td>0.018480</td>\n",
       "      <td>0.341416</td>\n",
       "      <td>1.000000</td>\n",
       "      <td>-0.018704</td>\n",
       "    </tr>\n",
       "    <tr>\n",
       "      <th>Years in current job_1</th>\n",
       "      <td>-0.126375</td>\n",
       "      <td>0.106898</td>\n",
       "      <td>0.003723</td>\n",
       "      <td>0.062628</td>\n",
       "      <td>0.159126</td>\n",
       "      <td>0.004405</td>\n",
       "      <td>0.013963</td>\n",
       "      <td>-0.025810</td>\n",
       "      <td>0.023431</td>\n",
       "      <td>0.084138</td>\n",
       "      <td>-0.000923</td>\n",
       "      <td>0.111087</td>\n",
       "      <td>0.144712</td>\n",
       "      <td>-0.004393</td>\n",
       "      <td>-0.018704</td>\n",
       "      <td>1.000000</td>\n",
       "    </tr>\n",
       "  </tbody>\n",
       "</table>\n",
       "</div>"
      ],
      "text/plain": [
       "                              Home Ownership  Annual Income  Tax Liens  \\\n",
       "Home Ownership                      1.000000      -0.089168   0.007924   \n",
       "Annual Income                      -0.089168       1.000000   0.046994   \n",
       "Tax Liens                           0.007924       0.046994   1.000000   \n",
       "Number of Open Accounts            -0.090543       0.151066  -0.005360   \n",
       "Years of Credit History            -0.162704       0.145838   0.009109   \n",
       "Maximum Open Credit                -0.006241       0.013965  -0.002410   \n",
       "Number of Credit Problems           0.006428      -0.017830   0.595339   \n",
       "Months since last delinquent        0.025323      -0.047130   0.024418   \n",
       "Bankruptcies                        0.011038      -0.057181   0.057423   \n",
       "Term                               -0.085001       0.078186   0.004953   \n",
       "Current Loan Amount                -0.016737       0.026267  -0.007835   \n",
       "Current Credit Balance             -0.142266       0.312061  -0.010195   \n",
       "Monthly Debt                       -0.129947       0.465153   0.027211   \n",
       "Credit Score                        0.005003      -0.039802   0.012275   \n",
       "Credit Default                      0.041095      -0.075956   0.024368   \n",
       "Years in current job_1             -0.126375       0.106898   0.003723   \n",
       "\n",
       "                              Number of Open Accounts  \\\n",
       "Home Ownership                              -0.090543   \n",
       "Annual Income                                0.151066   \n",
       "Tax Liens                                   -0.005360   \n",
       "Number of Open Accounts                      1.000000   \n",
       "Years of Credit History                      0.144819   \n",
       "Maximum Open Credit                          0.023897   \n",
       "Number of Credit Problems                   -0.017813   \n",
       "Months since last delinquent                 0.009494   \n",
       "Bankruptcies                                -0.018859   \n",
       "Term                                         0.071316   \n",
       "Current Loan Amount                          0.001346   \n",
       "Current Credit Balance                       0.267325   \n",
       "Monthly Debt                                 0.413904   \n",
       "Credit Score                                 0.017579   \n",
       "Credit Default                               0.028884   \n",
       "Years in current job_1                       0.062628   \n",
       "\n",
       "                              Years of Credit History  Maximum Open Credit  \\\n",
       "Home Ownership                              -0.162704            -0.006241   \n",
       "Annual Income                                0.145838             0.013965   \n",
       "Tax Liens                                    0.009109            -0.002410   \n",
       "Number of Open Accounts                      0.144819             0.023897   \n",
       "Years of Credit History                      1.000000             0.029247   \n",
       "Maximum Open Credit                          0.029247             1.000000   \n",
       "Number of Credit Problems                    0.071259            -0.004750   \n",
       "Months since last delinquent                 0.002572            -0.005093   \n",
       "Bankruptcies                                 0.085592            -0.011632   \n",
       "Term                                         0.044243            -0.006023   \n",
       "Current Loan Amount                          0.010623            -0.002334   \n",
       "Current Credit Balance                       0.217856             0.088090   \n",
       "Monthly Debt                                 0.191978             0.010197   \n",
       "Credit Score                                -0.018132            -0.005727   \n",
       "Credit Default                              -0.020567            -0.014275   \n",
       "Years in current job_1                       0.159126             0.004405   \n",
       "\n",
       "                              Number of Credit Problems  \\\n",
       "Home Ownership                                 0.006428   \n",
       "Annual Income                                 -0.017830   \n",
       "Tax Liens                                      0.595339   \n",
       "Number of Open Accounts                       -0.017813   \n",
       "Years of Credit History                        0.071259   \n",
       "Maximum Open Credit                           -0.004750   \n",
       "Number of Credit Problems                      1.000000   \n",
       "Months since last delinquent                   0.075703   \n",
       "Bankruptcies                                   0.730808   \n",
       "Term                                          -0.020433   \n",
       "Current Loan Amount                           -0.008596   \n",
       "Current Credit Balance                        -0.124137   \n",
       "Monthly Debt                                  -0.042252   \n",
       "Credit Score                                  -0.008620   \n",
       "Credit Default                                 0.020088   \n",
       "Years in current job_1                         0.013963   \n",
       "\n",
       "                              Months since last delinquent  Bankruptcies  \\\n",
       "Home Ownership                                    0.025323      0.011038   \n",
       "Annual Income                                    -0.047130     -0.057181   \n",
       "Tax Liens                                         0.024418      0.057423   \n",
       "Number of Open Accounts                           0.009494     -0.018859   \n",
       "Years of Credit History                           0.002572      0.085592   \n",
       "Maximum Open Credit                              -0.005093     -0.011632   \n",
       "Number of Credit Problems                         0.075703      0.730808   \n",
       "Months since last delinquent                      1.000000      0.080344   \n",
       "Bankruptcies                                      0.080344      1.000000   \n",
       "Term                                              0.010698     -0.030981   \n",
       "Current Loan Amount                              -0.002531     -0.006169   \n",
       "Current Credit Balance                           -0.009600     -0.142553   \n",
       "Monthly Debt                                     -0.013760     -0.078847   \n",
       "Credit Score                                     -0.020357     -0.013173   \n",
       "Credit Default                                   -0.008102      0.001640   \n",
       "Years in current job_1                           -0.025810      0.023431   \n",
       "\n",
       "                                  Term  Current Loan Amount  \\\n",
       "Home Ownership               -0.085001            -0.016737   \n",
       "Annual Income                 0.078186             0.026267   \n",
       "Tax Liens                     0.004953            -0.007835   \n",
       "Number of Open Accounts       0.071316             0.001346   \n",
       "Years of Credit History       0.044243             0.010623   \n",
       "Maximum Open Credit          -0.006023            -0.002334   \n",
       "Number of Credit Problems    -0.020433            -0.008596   \n",
       "Months since last delinquent  0.010698            -0.002531   \n",
       "Bankruptcies                 -0.030981            -0.006169   \n",
       "Term                          1.000000            -0.075222   \n",
       "Current Loan Amount          -0.075222             1.000000   \n",
       "Current Credit Balance        0.108561             0.016672   \n",
       "Monthly Debt                  0.144021            -0.009382   \n",
       "Credit Score                  0.029335            -0.094127   \n",
       "Credit Default                0.181487            -0.226522   \n",
       "Years in current job_1        0.084138            -0.000923   \n",
       "\n",
       "                              Current Credit Balance  Monthly Debt  \\\n",
       "Home Ownership                             -0.142266     -0.129947   \n",
       "Annual Income                               0.312061      0.465153   \n",
       "Tax Liens                                  -0.010195      0.027211   \n",
       "Number of Open Accounts                     0.267325      0.413904   \n",
       "Years of Credit History                     0.217856      0.191978   \n",
       "Maximum Open Credit                         0.088090      0.010197   \n",
       "Number of Credit Problems                  -0.124137     -0.042252   \n",
       "Months since last delinquent               -0.009600     -0.013760   \n",
       "Bankruptcies                               -0.142553     -0.078847   \n",
       "Term                                        0.108561      0.144021   \n",
       "Current Loan Amount                         0.016672     -0.009382   \n",
       "Current Credit Balance                      1.000000      0.504964   \n",
       "Monthly Debt                                0.504964      1.000000   \n",
       "Credit Score                               -0.004895      0.001430   \n",
       "Credit Default                             -0.019522      0.018480   \n",
       "Years in current job_1                      0.111087      0.144712   \n",
       "\n",
       "                              Credit Score  Credit Default  \\\n",
       "Home Ownership                    0.005003        0.041095   \n",
       "Annual Income                    -0.039802       -0.075956   \n",
       "Tax Liens                         0.012275        0.024368   \n",
       "Number of Open Accounts           0.017579        0.028884   \n",
       "Years of Credit History          -0.018132       -0.020567   \n",
       "Maximum Open Credit              -0.005727       -0.014275   \n",
       "Number of Credit Problems        -0.008620        0.020088   \n",
       "Months since last delinquent     -0.020357       -0.008102   \n",
       "Bankruptcies                     -0.013173        0.001640   \n",
       "Term                              0.029335        0.181487   \n",
       "Current Loan Amount              -0.094127       -0.226522   \n",
       "Current Credit Balance           -0.004895       -0.019522   \n",
       "Monthly Debt                      0.001430        0.018480   \n",
       "Credit Score                      1.000000        0.341416   \n",
       "Credit Default                    0.341416        1.000000   \n",
       "Years in current job_1           -0.004393       -0.018704   \n",
       "\n",
       "                              Years in current job_1  \n",
       "Home Ownership                             -0.126375  \n",
       "Annual Income                               0.106898  \n",
       "Tax Liens                                   0.003723  \n",
       "Number of Open Accounts                     0.062628  \n",
       "Years of Credit History                     0.159126  \n",
       "Maximum Open Credit                         0.004405  \n",
       "Number of Credit Problems                   0.013963  \n",
       "Months since last delinquent               -0.025810  \n",
       "Bankruptcies                                0.023431  \n",
       "Term                                        0.084138  \n",
       "Current Loan Amount                        -0.000923  \n",
       "Current Credit Balance                      0.111087  \n",
       "Monthly Debt                                0.144712  \n",
       "Credit Score                               -0.004393  \n",
       "Credit Default                             -0.018704  \n",
       "Years in current job_1                      1.000000  "
      ]
     },
     "execution_count": 73,
     "metadata": {},
     "output_type": "execute_result"
    }
   ],
   "source": [
    "train_data.corr()"
   ]
  },
  {
   "cell_type": "code",
   "execution_count": 74,
   "id": "85ffe48a",
   "metadata": {},
   "outputs": [
    {
     "data": {
      "text/plain": [
       "<AxesSubplot:>"
      ]
     },
     "execution_count": 74,
     "metadata": {},
     "output_type": "execute_result"
    },
    {
     "data": {
      "image/png": "[encoded data removed]",
      "text/plain": [
       "<Figure size 2160x720 with 2 Axes>"
      ]
     },
     "metadata": {
      "needs_background": "light"
     },
     "output_type": "display_data"
    }
   ],
   "source": [
    "plt.figure(figsize=(30,10))\n",
    "sns.heatmap(train_data.corr(),annot=True,fmt=\".2g\")"
   ]
  },
  {
   "cell_type": "code",
   "execution_count": 75,
   "id": "1de64536",
   "metadata": {},
   "outputs": [],
   "source": [
    "value_sub = test_data[\"Id\"]"
   ]
  },
  {
   "cell_type": "code",
   "execution_count": 76,
   "id": "fd821d68",
   "metadata": {},
   "outputs": [
    {
     "data": {
      "text/plain": [
       "0    7500\n",
       "1    7501\n",
       "2    7502\n",
       "3    7503\n",
       "4    7504\n",
       "Name: Id, dtype: int64"
      ]
     },
     "execution_count": 76,
     "metadata": {},
     "output_type": "execute_result"
    }
   ],
   "source": [
    "value_sub[:5]"
   ]
  },
  {
   "cell_type": "code",
   "execution_count": 77,
   "id": "9d6f0670",
   "metadata": {},
   "outputs": [],
   "source": [
    "test_data = test_data.drop(\"Id\",axis=1)"
   ]
  },
  {
   "cell_type": "code",
   "execution_count": 78,
   "id": "4a83904b",
   "metadata": {},
   "outputs": [],
   "source": [
    "X_test = test_data.copy()"
   ]
  },
  {
   "cell_type": "code",
   "execution_count": null,
   "id": "859652bb",
   "metadata": {},
   "outputs": [],
   "source": [
    "# train_data.drop(\"Id\",axis=1)"
   ]
  },
  {
   "cell_type": "code",
   "execution_count": 79,
   "id": "d6295d31",
   "metadata": {},
   "outputs": [],
   "source": [
    "X = train_data.drop(\"Credit Default\",axis=1)\n",
    "y = train_data[\"Credit Default\"]"
   ]
  },
  {
   "cell_type": "code",
   "execution_count": 80,
   "id": "27d2ca87",
   "metadata": {},
   "outputs": [
    {
     "data": {
      "text/plain": [
       "0    0\n",
       "1    1\n",
       "2    0\n",
       "3    0\n",
       "4    0\n",
       "Name: Credit Default, dtype: int64"
      ]
     },
     "execution_count": 80,
     "metadata": {},
     "output_type": "execute_result"
    }
   ],
   "source": [
    "y[:5]"
   ]
  },
  {
   "cell_type": "code",
   "execution_count": 81,
   "id": "6c11993b",
   "metadata": {},
   "outputs": [],
   "source": [
    "from sklearn.linear_model import LogisticRegression\n",
    "from sklearn.ensemble import RandomForestClassifier\n",
    "from sklearn.tree import DecisionTreeClassifier\n",
    "from sklearn.svm import SVC"
   ]
  },
  {
   "cell_type": "code",
   "execution_count": 82,
   "id": "8cfe502e",
   "metadata": {},
   "outputs": [
    {
     "data": {
      "text/plain": [
       "LogisticRegression()"
      ]
     },
     "execution_count": 82,
     "metadata": {},
     "output_type": "execute_result"
    }
   ],
   "source": [
    "#logisticistic Regression\n",
    "\n",
    "logistic = LogisticRegression()\n",
    "logistic.fit(X,y)"
   ]
  },
  {
   "cell_type": "code",
   "execution_count": 83,
   "id": "a9986fd7",
   "metadata": {},
   "outputs": [
    {
     "data": {
      "text/plain": [
       "RandomForestClassifier()"
      ]
     },
     "execution_count": 83,
     "metadata": {},
     "output_type": "execute_result"
    }
   ],
   "source": [
    "# RandomForestClassifier\n",
    "\n",
    "random_class = RandomForestClassifier()\n",
    "random_class.fit(X,y)"
   ]
  },
  {
   "cell_type": "code",
   "execution_count": 84,
   "id": "3818b1d9",
   "metadata": {},
   "outputs": [
    {
     "data": {
      "text/plain": [
       "DecisionTreeClassifier()"
      ]
     },
     "execution_count": 84,
     "metadata": {},
     "output_type": "execute_result"
    }
   ],
   "source": [
    "# DecisionTreeClassifier\n",
    "\n",
    "decision = DecisionTreeClassifier()\n",
    "decision.fit(X,y)"
   ]
  },
  {
   "cell_type": "code",
   "execution_count": 85,
   "id": "4620341b",
   "metadata": {},
   "outputs": [
    {
     "data": {
      "text/plain": [
       "SVC()"
      ]
     },
     "execution_count": 85,
     "metadata": {},
     "output_type": "execute_result"
    }
   ],
   "source": [
    "# SVC\n",
    "\n",
    "svc = SVC()\n",
    "svc.fit(X,y)"
   ]
  },
  {
   "cell_type": "code",
   "execution_count": 86,
   "id": "448acca6",
   "metadata": {},
   "outputs": [
    {
     "data": {
      "text/plain": [
       "array([0, 1, 1, 0, 0], dtype=int64)"
      ]
     },
     "execution_count": 86,
     "metadata": {},
     "output_type": "execute_result"
    }
   ],
   "source": [
    "y_pred_log = logistic.predict(X_test)\n",
    "y_pred_log[:5]"
   ]
  },
  {
   "cell_type": "code",
   "execution_count": 87,
   "id": "f2391d0a",
   "metadata": {},
   "outputs": [
    {
     "data": {
      "text/plain": [
       "array([0, 0, 1, 0, 0], dtype=int64)"
      ]
     },
     "execution_count": 87,
     "metadata": {},
     "output_type": "execute_result"
    }
   ],
   "source": [
    "y_pred_rc = random_class.predict(X_test)\n",
    "y_pred_rc[:5]"
   ]
  },
  {
   "cell_type": "code",
   "execution_count": 88,
   "id": "cce6bbd2",
   "metadata": {},
   "outputs": [
    {
     "data": {
      "text/plain": [
       "array([0, 1, 1, 0, 0], dtype=int64)"
      ]
     },
     "execution_count": 88,
     "metadata": {},
     "output_type": "execute_result"
    }
   ],
   "source": [
    "# decision\n",
    "\n",
    "y_pred_dt = decision.predict(X_test)\n",
    "y_pred_dt[:5]"
   ]
  },
  {
   "cell_type": "code",
   "execution_count": 89,
   "id": "86a51444",
   "metadata": {},
   "outputs": [
    {
     "data": {
      "text/plain": [
       "array([0, 0, 0, 0, 0], dtype=int64)"
      ]
     },
     "execution_count": 89,
     "metadata": {},
     "output_type": "execute_result"
    }
   ],
   "source": [
    "y_pred_sv = svc.predict(X_test)\n",
    "y_pred_sv[:5]"
   ]
  },
  {
   "cell_type": "code",
   "execution_count": 90,
   "id": "0616880d",
   "metadata": {},
   "outputs": [
    {
     "data": {
      "text/html": [
       "<div>\n",
       "<style scoped>\n",
       "    .dataframe tbody tr th:only-of-type {\n",
       "        vertical-align: middle;\n",
       "    }\n",
       "\n",
       "    .dataframe tbody tr th {\n",
       "        vertical-align: top;\n",
       "    }\n",
       "\n",
       "    .dataframe thead th {\n",
       "        text-align: right;\n",
       "    }\n",
       "</style>\n",
       "<table border=\"1\" class=\"dataframe\">\n",
       "  <thead>\n",
       "    <tr style=\"text-align: right;\">\n",
       "      <th></th>\n",
       "      <th>Id</th>\n",
       "      <th>Credit Default</th>\n",
       "    </tr>\n",
       "  </thead>\n",
       "  <tbody>\n",
       "    <tr>\n",
       "      <th>0</th>\n",
       "      <td>7500</td>\n",
       "      <td>0</td>\n",
       "    </tr>\n",
       "    <tr>\n",
       "      <th>1</th>\n",
       "      <td>7501</td>\n",
       "      <td>0</td>\n",
       "    </tr>\n",
       "    <tr>\n",
       "      <th>2</th>\n",
       "      <td>7502</td>\n",
       "      <td>0</td>\n",
       "    </tr>\n",
       "    <tr>\n",
       "      <th>3</th>\n",
       "      <td>7503</td>\n",
       "      <td>0</td>\n",
       "    </tr>\n",
       "    <tr>\n",
       "      <th>4</th>\n",
       "      <td>7504</td>\n",
       "      <td>0</td>\n",
       "    </tr>\n",
       "  </tbody>\n",
       "</table>\n",
       "</div>"
      ],
      "text/plain": [
       "     Id  Credit Default\n",
       "0  7500               0\n",
       "1  7501               0\n",
       "2  7502               0\n",
       "3  7503               0\n",
       "4  7504               0"
      ]
     },
     "execution_count": 90,
     "metadata": {},
     "output_type": "execute_result"
    }
   ],
   "source": [
    "data = pd.DataFrame(value_sub)\n",
    "data[\"Credit Default\"] = y_pred_sv\n",
    "data.head()"
   ]
  },
  {
   "cell_type": "code",
   "execution_count": null,
   "id": "97af91b6",
   "metadata": {},
   "outputs": [],
   "source": []
  }
 ],
 "metadata": {
  "kernelspec": {
   "display_name": "Python 3",
   "language": "python",
   "name": "python3"
  },
  "language_info": {
   "codemirror_mode": {
    "name": "ipython",
    "version": 3
   },
   "file_extension": ".py",
   "mimetype": "text/x-python",
   "name": "python",
   "nbconvert_exporter": "python",
   "pygments_lexer": "ipython3",
   "version": "3.8.8"
  }
 },
 "nbformat": 4,
 "nbformat_minor": 5
}
